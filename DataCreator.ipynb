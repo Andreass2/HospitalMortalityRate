{
 "cells": [
  {
   "cell_type": "code",
   "execution_count": null,
   "metadata": {},
   "outputs": [],
   "source": [
    "\n",
    "import pandas as pd\n",
    "import csv\n",
    "import yaml\n",
    "%run 'DataGatherer.ipynb' \n",
    "%run 'Preprocess_data.ipynb'"
   ]
  },
  {
   "cell_type": "markdown",
   "metadata": {},
   "source": [
    "# Make a csv for all stays"
   ]
  },
  {
   "cell_type": "code",
   "execution_count": null,
   "metadata": {},
   "outputs": [],
   "source": [
    "patients = read_patients_data(f'./rawdata/')\n",
    "admissions = read_admission_data(f'./rawdata/')\n",
    "stays = read_icustays_data(f'./rawdata/')\n",
    "\n",
    "stays = remove_icustays_with_transfers(stays)\n",
    "stays = merge_on_subject_admission(stays, admissions)\n",
    "stays = merge_on_subject(stays, patients)\n",
    "stays = filter_admissions_on_nb_icustays(stays)\n",
    "stays = add_age_to_icustays(stays)\n",
    "stays = add_inhospital_mortality_to_icustays(stays)\n",
    "stays = add_inunit_mortality_to_icustays(stays)\n",
    "stays.to_csv(os.path.join('./data/', 'all_stays.csv'), index=False)"
   ]
  },
  {
   "cell_type": "markdown",
   "metadata": {},
   "source": [
    "# Make a csv for all diagnoses"
   ]
  },
  {
   "cell_type": "code",
   "execution_count": null,
   "metadata": {
    "collapsed": true
   },
   "outputs": [],
   "source": [
    "diagnoses = read_icd_diagnoses_data(f'./rawdata/')\n",
    "diagnoses = filter_diagnoses_on_stays(diagnoses, stays)\n",
    "diagnoses.to_csv(os.path.join('./data/', 'all_diagnoses.csv'), index=False)"
   ]
  },
  {
   "cell_type": "markdown",
   "metadata": {},
   "source": [
    "# Make a csv with diagnoses count\n"
   ]
  },
  {
   "cell_type": "code",
   "execution_count": null,
   "metadata": {
    "collapsed": true
   },
   "outputs": [],
   "source": [
    "counts = count_icd_codes(diagnoses, output_path=os.path.join('./data/', 'diagnosis_counts.csv'))\n"
   ]
  },
  {
   "cell_type": "code",
   "execution_count": null,
   "metadata": {},
   "outputs": [],
   "source": [
    "phenotypes = add_hcup_ccs_2015_groups(diagnoses, yaml.load(open('resources/hcup_ccs_2015_definitions.yaml', 'r')))\n",
    "make_phenotype_label_matrix(phenotypes, stays).to_csv(os.path.join('./data', 'phenotype_labels.csv'),\n",
    "                                                      index=False, quoting=csv.QUOTE_NONNUMERIC)"
   ]
  },
  {
   "cell_type": "markdown",
   "metadata": {},
   "source": [
    "# Make a csv file with stays for each patient"
   ]
  },
  {
   "cell_type": "code",
   "execution_count": null,
   "metadata": {},
   "outputs": [],
   "source": [
    "subjects = stays.SUBJECT_ID.unique()\n",
    "break_up_stays_by_subject(stays, './data/', subjects=subjects, verbose=1)"
   ]
  },
  {
   "cell_type": "markdown",
   "metadata": {},
   "source": [
    "# Make a csv file with diagnoses for each patient\n"
   ]
  },
  {
   "cell_type": "code",
   "execution_count": null,
   "metadata": {},
   "outputs": [],
   "source": [
    "break_up_diagnoses_by_subject(phenotypes, './data/', subjects=subjects, verbose=1)"
   ]
  },
  {
   "cell_type": "markdown",
   "metadata": {},
   "source": [
    "# Make a csv file with events for each patient\n",
    "\n",
    "This will make a folder for each patient. Each folder is "
   ]
  },
  {
   "cell_type": "code",
   "execution_count": null,
   "metadata": {},
   "outputs": [],
   "source": [
    "#This is for testing, choosing around 1000 patients and one event type only. \n",
    "\n",
    "#event_data = ['CHARTEVENTS', 'LABEVENTS', 'OUTPUTEVENTS']\n",
    "#pat_idx = np.random.choice(patients.shape[0], size=1000)\n",
    "#patients = patients.iloc[pat_idx]\n",
    "#stays = stays.merge(patients[['SUBJECT_ID']], left_on='SUBJECT_ID', right_on='SUBJECT_ID')\n",
    "#event_data = [event_data[2]]\n",
    "#print('Using only', stays.shape[0], 'stays and only', event_data[0], 'table')"
   ]
  },
  {
   "cell_type": "code",
   "execution_count": null,
   "metadata": {
    "collapsed": true
   },
   "outputs": [],
   "source": [
    "path_to_items = f'./rawdata/D_LABITEMS.csv'\n",
    "event_data = ['LABEVENTS']\n",
    "items_to_keep = set(\n",
    "    [int(itemid) for itemid in pd.read_csv(path_to_items)['ITEMID'].unique()]) if path_to_items else None\n",
    "\n",
    "for table in event_data:\n",
    "    read_events_table_and_break_up_by_subject('./rawdata/', table, './data/', items_to_keep=items_to_keep,\n",
    "                                              subjects_to_keep=subjects, verbose=1)\n",
    "\n"
   ]
  },
  {
   "cell_type": "code",
   "execution_count": null,
   "metadata": {},
   "outputs": [],
   "source": [
    "path_to_items = f'./rawdata/D_ITEMS.csv'\n",
    "event_data = ['CHARTEVENTS', 'OUTPUTEVENTS']\n",
    "\n",
    "items_to_keep = set(\n",
    "    [int(itemid) for itemid in pd.read_csv(path_to_items)['ITEMID'].unique()]) if path_to_items else None\n",
    "\n",
    "for table in event_data:\n",
    "    read_events_table_and_break_up_by_subject('./rawdata/', table, './data/', items_to_keep=items_to_keep,\n",
    "                                              subjects_to_keep=subjects, verbose=1)"
   ]
  },
  {
   "cell_type": "markdown",
   "metadata": {},
   "source": [
    "# Remove data from events\n",
    "This is based on the assumptions from the github project. \n",
    "The assumptions are:\n",
    "* There is one-to-one mapping between HADM_ID and ICUSTAY_ID in `stays.csv` files.\n",
    "* HADM_ID and ICUSTAY_ID are not empty in `stays.csv` files.\n",
    "* `stays.csv` and `events.csv` files are always present.\n",
    "* There is no case, where after initial filtering we cannot recover empty ICUSTAY_IDs.\n",
    "  \n",
    "Problems which are fixed by filtering up the events:\n",
    "* Remove all events for which HADM_ID is missing.\n",
    "* Remove all events for which HADM_ID is not present in `stays.csv`.\n",
    "* If ICUSTAY_ID is missing in an event and HADM_ID is not missing, then we look at `stays.csv` and try to recover ICUSTAY_ID.\n",
    "* Remove all events for which we cannot recover ICUSTAY_ID.\n",
    "* Remove all events for which ICUSTAY_ID is not present in `stays.csv`."
   ]
  },
  {
   "cell_type": "code",
   "execution_count": null,
   "metadata": {},
   "outputs": [],
   "source": [
    "%run 'FilterEvents.ipynb'"
   ]
  },
  {
   "cell_type": "code",
   "execution_count": null,
   "metadata": {},
   "outputs": [],
   "source": []
  },
  {
   "cell_type": "code",
   "execution_count": null,
   "metadata": {
    "collapsed": true
   },
   "outputs": [],
   "source": []
  }
 ],
 "metadata": {
  "kernelspec": {
   "display_name": "Python 3",
   "language": "python",
   "name": "python3"
  },
  "language_info": {
   "codemirror_mode": {
    "name": "ipython",
    "version": 3
   },
   "file_extension": ".py",
   "mimetype": "text/x-python",
   "name": "python",
   "nbconvert_exporter": "python",
   "pygments_lexer": "ipython3",
   "version": "3.6.3"
  }
 },
 "nbformat": 4,
 "nbformat_minor": 2
}
