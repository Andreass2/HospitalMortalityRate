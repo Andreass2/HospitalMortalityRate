{
 "cells": [
  {
   "cell_type": "markdown",
   "metadata": {},
   "source": [
    "# Using fastai on Clinical Time Series data\n",
    "\n",
    "\n",
    "First of all, this project is completed as a learning process to gain experience working on clinical Time Series data, as a preparation for my masters thesis. \n",
    "\n"
   ]
  },
  {
   "cell_type": "markdown",
   "metadata": {},
   "source": [
    "The data used in the project is the MIMIC III dataset (https://www.nature.com/articles/sdata201635)"
   ]
  },
  {
   "cell_type": "markdown",
   "metadata": {},
   "source": [
    "\n",
    "This project is based on Multitask Learning and Benchmarking with Clinical Time Series Data by Hrayr Harutyunyan, Hrant Khachatrian, David C. Kale, and Aram Galstyan and their github project can be found here:\n",
    "https://github.com/YerevaNN/mimic3-benchmarks\n",
    "\n",
    "In Multitask Learning and Benchmarking with Clinical Time Series Data, they do 3 types of predictions and one classification, which are:\n",
    "- In hospital mortality prediction\n",
    "- Decomposition prediction \n",
    "- Length of stay prediction\n",
    "- Phenotype classification\n",
    "\n",
    "\n",
    "They used: \n",
    "- binary_crossentropy as a loss function\n",
    "- batch_size 8\n",
    "- dropout 0.3 \n",
    "- depth 2\n",
    "- optimizer adam\n",
    "- 16 hidden units\n",
    "- 100 epochs\n",
    "- 0.001 as a learning rate\n"
   ]
  },
  {
   "cell_type": "markdown",
   "metadata": {},
   "source": [
    "To prepare the data I have used the same methods as Multitask Learning and Benchmarking with Clinical Time Series Data. It is generated a folder for each subject(patient) with data about their stays at the hospital, their diagnoses and different events. \n",
    "\n",
    "After this the data is processed into time series data\n",
    "\n",
    "Lastly, the data is split into a test set and a train set. Where I used the same subjects as train and test as Multitask Learning and Benchmarking with Clinical Time Series Data. "
   ]
  },
  {
   "cell_type": "markdown",
   "metadata": {},
   "source": [
    "## Categorical data\n",
    "\n",
    "To deal with categorical data I used entity embeddings\n",
    "\n",
    "Categorical data\n",
    "- gender\n",
    "- ethnicity\n",
    "- diagnosis? One person can have multiple diagnosis, int is still a bad representation of the diagnosis\n",
    "\n",
    "\n",
    "\n",
    "To decide the size of the embeddings, I used a methods made by Jeremy Howard which states: \n",
    "\n",
    "embedding size = min(50, ((c+1) // 2) )\n",
    "\n",
    "where c is the categorier for each feature. "
   ]
  },
  {
   "cell_type": "markdown",
   "metadata": {},
   "source": [
    "\n",
    "\n",
    "## Fremgangsmåte\n",
    "\n",
    "The first thing after data cleaning, I did Linear Regression. Linear Regression predicted that all patient would survive. \n",
    "\n",
    "\n",
    "Balancing the data\n",
    "\n",
    "\n",
    "\n",
    "At first I tried with the same hyperparameters and my results was. \n",
    "\n",
    "\n",
    "Then I ran fastai's method for finding the best learning rate, where the result was ....\n",
    "The achieved accuricy with the new learning rate was. ...."
   ]
  },
  {
   "cell_type": "markdown",
   "metadata": {},
   "source": [
    "## Comparing results\n",
    "\n",
    "By downloading and running the github project from Multitask Learning and Benchmarking with Clinical Time Series Data, i achieved the following: \n",
    "\n",
    "bla bla bla\n",
    "\n",
    "\n",
    "\n",
    "In my approach I achieved: \n",
    "bla bla bla\n"
   ]
  },
  {
   "cell_type": "markdown",
   "metadata": {},
   "source": [
    "\n",
    "# Citations\n",
    "\n",
    "- Hrayr Harutyunyan, Hrant Khachatrian, David C. Kale, and Aram Galstyan. Multitask Learning and Benchmarking with Clinical Time Series Data. arXiv:1703.07771\n",
    "- Johnson, A. E. W. et al. MIMIC-III, a freely accessible critical care database. Sci. Data 3:160035 doi: 10.1038/sdata.2016.35 (2016)."
   ]
  },
  {
   "cell_type": "code",
   "execution_count": null,
   "metadata": {
    "collapsed": true
   },
   "outputs": [],
   "source": []
  }
 ],
 "metadata": {
  "kernelspec": {
   "display_name": "Python 3",
   "language": "python",
   "name": "python3"
  },
  "language_info": {
   "codemirror_mode": {
    "name": "ipython",
    "version": 3
   },
   "file_extension": ".py",
   "mimetype": "text/x-python",
   "name": "python",
   "nbconvert_exporter": "python",
   "pygments_lexer": "ipython3",
   "version": "3.6.3"
  }
 },
 "nbformat": 4,
 "nbformat_minor": 2
}
