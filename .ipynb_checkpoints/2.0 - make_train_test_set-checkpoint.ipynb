{
 "cells": [
  {
   "cell_type": "markdown",
   "metadata": {},
   "source": [
    "# Sort the data into a train and test set\n",
    "\n",
    "This splits the data into a trainset and a testset.\n",
    "I have used the same testset from the github project to be able to give a more precise comparrison between my fast ai approach and their approach\n",
    "\n",
    " The reason for making a general dataset is to be able to do training on other areas of the data if time and resources allow it"
   ]
  },
  {
   "cell_type": "code",
   "execution_count": 2,
   "metadata": {},
   "outputs": [],
   "source": [
    "import os\n",
    "import shutil\n",
    "\n",
    "DATA_PATH = f'./data/'\n",
    "PROCESSED_DATA = f'./datasets'\n",
    "\n",
    "testset = set()\n",
    "with open(\"resources/testset.csv\", \"r\") as test_set_file:\n",
    "    for line in test_set_file:\n",
    "        x, y = line.split(',')\n",
    "        if int(y) == 1:\n",
    "            testset.add(x)\n",
    "\n",
    "def move_to_partition(patients, partition):\n",
    "    if not os.path.exists(os.path.join(PROCESSED_DATA, partition)):\n",
    "        os.mkdir(os.path.join(PROCESSED_DATA, partition))\n",
    "    for patient in patients:\n",
    "        src = os.path.join(DATA_PATH, patient)\n",
    "        dest = os.path.join(PROCESSED_DATA, partition, patient)\n",
    "        if not os.path.exists(dest):\n",
    "            shutil.copytree(src, dest)\n",
    "\n",
    "\n",
    "folders = os.listdir(DATA_PATH)\n",
    "folders = list((filter(str.isdigit, folders)))\n",
    "train_patients = [x for x in folders if not x in testset]\n",
    "test_patients = [x for x in folders if x in testset]\n",
    "\n",
    "assert len(set(train_patients) & set(test_patients)) == 0\n",
    "\n",
    "move_to_partition(train_patients, \"train\")\n",
    "move_to_partition(test_patients, \"test\")\n"
   ]
  },
  {
   "cell_type": "markdown",
   "metadata": {},
   "source": [
    "This takes the train and test set and creates datasets which are specific for predicting mortality test."
   ]
  },
  {
   "cell_type": "code",
   "execution_count": 3,
   "metadata": {},
   "outputs": [
    {
     "ename": "FileNotFoundError",
     "evalue": "[Errno 2] No such file or directory: './data/test'",
     "output_type": "error",
     "traceback": [
      "\u001b[0;31m---------------------------------------------------------------------------\u001b[0m",
      "\u001b[0;31mFileNotFoundError\u001b[0m                         Traceback (most recent call last)",
      "\u001b[0;32m<ipython-input-3-25708f0c8902>\u001b[0m in \u001b[0;36m<module>\u001b[0;34m()\u001b[0m\n\u001b[1;32m     78\u001b[0m \u001b[0;34m\u001b[0m\u001b[0m\n\u001b[1;32m     79\u001b[0m \u001b[0;34m\u001b[0m\u001b[0m\n\u001b[0;32m---> 80\u001b[0;31m \u001b[0mprocess_partition\u001b[0m\u001b[0;34m(\u001b[0m\u001b[0;34m\"test\"\u001b[0m\u001b[0;34m)\u001b[0m\u001b[0;34m\u001b[0m\u001b[0m\n\u001b[0m\u001b[1;32m     81\u001b[0m \u001b[0mprocess_partition\u001b[0m\u001b[0;34m(\u001b[0m\u001b[0;34m\"train\"\u001b[0m\u001b[0;34m)\u001b[0m\u001b[0;34m\u001b[0m\u001b[0m\n",
      "\u001b[0;32m<ipython-input-3-25708f0c8902>\u001b[0m in \u001b[0;36mprocess_partition\u001b[0;34m(partition, eps, n_hours)\u001b[0m\n\u001b[1;32m     17\u001b[0m \u001b[0;34m\u001b[0m\u001b[0m\n\u001b[1;32m     18\u001b[0m     \u001b[0mxy_pairs\u001b[0m \u001b[0;34m=\u001b[0m \u001b[0;34m[\u001b[0m\u001b[0;34m]\u001b[0m\u001b[0;34m\u001b[0m\u001b[0m\n\u001b[0;32m---> 19\u001b[0;31m     \u001b[0mpatients\u001b[0m \u001b[0;34m=\u001b[0m \u001b[0mlist\u001b[0m\u001b[0;34m(\u001b[0m\u001b[0mfilter\u001b[0m\u001b[0;34m(\u001b[0m\u001b[0mstr\u001b[0m\u001b[0;34m.\u001b[0m\u001b[0misdigit\u001b[0m\u001b[0;34m,\u001b[0m \u001b[0mos\u001b[0m\u001b[0;34m.\u001b[0m\u001b[0mlistdir\u001b[0m\u001b[0;34m(\u001b[0m\u001b[0mos\u001b[0m\u001b[0;34m.\u001b[0m\u001b[0mpath\u001b[0m\u001b[0;34m.\u001b[0m\u001b[0mjoin\u001b[0m\u001b[0;34m(\u001b[0m\u001b[0mDATA_PATH\u001b[0m\u001b[0;34m,\u001b[0m \u001b[0mpartition\u001b[0m\u001b[0;34m)\u001b[0m\u001b[0;34m)\u001b[0m\u001b[0;34m)\u001b[0m\u001b[0;34m)\u001b[0m\u001b[0;34m\u001b[0m\u001b[0m\n\u001b[0m\u001b[1;32m     20\u001b[0m     \u001b[0;32mfor\u001b[0m \u001b[0;34m(\u001b[0m\u001b[0mpatient_index\u001b[0m\u001b[0;34m,\u001b[0m \u001b[0mpatient\u001b[0m\u001b[0;34m)\u001b[0m \u001b[0;32min\u001b[0m \u001b[0menumerate\u001b[0m\u001b[0;34m(\u001b[0m\u001b[0mpatients\u001b[0m\u001b[0;34m)\u001b[0m\u001b[0;34m:\u001b[0m\u001b[0;34m\u001b[0m\u001b[0m\n\u001b[1;32m     21\u001b[0m         \u001b[0mpatient_folder\u001b[0m \u001b[0;34m=\u001b[0m \u001b[0mos\u001b[0m\u001b[0;34m.\u001b[0m\u001b[0mpath\u001b[0m\u001b[0;34m.\u001b[0m\u001b[0mjoin\u001b[0m\u001b[0;34m(\u001b[0m\u001b[0mPROCESSED_DATA\u001b[0m\u001b[0;34m,\u001b[0m \u001b[0mpartition\u001b[0m\u001b[0;34m,\u001b[0m \u001b[0mpatient\u001b[0m\u001b[0;34m)\u001b[0m\u001b[0;34m\u001b[0m\u001b[0m\n",
      "\u001b[0;31mFileNotFoundError\u001b[0m: [Errno 2] No such file or directory: './data/test'"
     ]
    }
   ],
   "source": [
    "from __future__ import print_function\n",
    "\n",
    "import pandas as pd\n",
    "import random\n",
    "random.seed(49297)\n",
    "\n",
    "FINAL_DATA_PATH = f'./datasets/ihm/'\n",
    "\n",
    "if not os.path.exists(FINAL_DATA_PATH):\n",
    "    os.makedirs(FINAL_DATA_PATH)\n",
    "\n",
    "\n",
    "def process_partition(partition, eps=1e-6, n_hours=48):\n",
    "    output_dir = os.path.join(FINAL_DATA_PATH, partition)\n",
    "    if (not os.path.exists(output_dir)):\n",
    "        os.mkdir(output_dir)\n",
    "\n",
    "    xy_pairs = []\n",
    "    patients = list(filter(str.isdigit, os.listdir(os.path.join(PROCESSED_DATA, partition))))\n",
    "    for (patient_index, patient) in enumerate(patients):\n",
    "        patient_folder = os.path.join(PROCESSED_DATA, partition, patient)\n",
    "        patient_ts_files = list(filter(lambda x: x.find(\"timeseries\") != -1, os.listdir(patient_folder)))\n",
    "\n",
    "        for ts_filename in patient_ts_files:\n",
    "            with open(os.path.join(patient_folder, ts_filename)) as tsfile:\n",
    "                lb_filename = ts_filename.replace(\"_timeseries\", \"\")\n",
    "                label_df = pd.read_csv(os.path.join(patient_folder, lb_filename))\n",
    "\n",
    "                # empty label file\n",
    "                if (label_df.shape[0] == 0):\n",
    "                    continue\n",
    "\n",
    "                mortality = int(label_df.iloc[0][\"Mortality\"])\n",
    "                los = 24.0 * label_df.iloc[0]['Length of Stay'] # in hours\n",
    "                if (pd.isnull(los)):\n",
    "                    print(\"\\n\\t(length of stay is missing)\", patient, ts_filename)\n",
    "                    continue\n",
    "\n",
    "                if (los < n_hours - eps):\n",
    "                    continue\n",
    "\n",
    "                ts_lines = tsfile.readlines()\n",
    "                header = ts_lines[0]\n",
    "                ts_lines = ts_lines[1:]\n",
    "                event_times = [float(line.split(',')[0]) for line in ts_lines]\n",
    "\n",
    "                ts_lines = [line for (line, t) in zip(ts_lines, event_times)\n",
    "                                     if (t > -eps and t < n_hours + eps)]\n",
    "                event_times = [t for t in event_times\n",
    "                                     if (t > -eps and t < n_hours + eps)]\n",
    "\n",
    "                # no measurements in ICU\n",
    "                if (len(ts_lines) == 0):\n",
    "                    print(\"\\n\\t(no events in ICU) \", patient, ts_filename)\n",
    "                    continue\n",
    "\n",
    "                output_ts_filename = patient + \"_\" + ts_filename\n",
    "                with open(os.path.join(output_dir, output_ts_filename), \"w\") as outfile:\n",
    "                    outfile.write(header)\n",
    "                    for line in ts_lines:\n",
    "                        outfile.write(line)\n",
    "\n",
    "                xy_pairs.append((output_ts_filename, mortality))\n",
    "\n",
    "        if ((patient_index + 1) % 500 == 0):\n",
    "            print(\"\\rprocessed {} / {} patients\".format(patient_index + 1, len(patients)))\n",
    "\n",
    "    print(\"\\n\", len(xy_pairs))\n",
    "    if partition == \"train\":\n",
    "        random.shuffle(xy_pairs)\n",
    "    if partition == \"test\":\n",
    "        xy_pairs = sorted(xy_pairs)\n",
    "\n",
    "    with open(os.path.join(output_dir, \"listfile.csv\"), \"w\") as listfile:\n",
    "        listfile.write('stay,y_true\\n')\n",
    "        for (x, y) in xy_pairs:\n",
    "            listfile.write(\"%s,%d\\n\" % (x, y))\n",
    "\n",
    "\n",
    "process_partition(\"test\")\n",
    "process_partition(\"train\")\n"
   ]
  },
  {
   "cell_type": "code",
   "execution_count": null,
   "metadata": {
    "collapsed": true
   },
   "outputs": [],
   "source": []
  }
 ],
 "metadata": {
  "kernelspec": {
   "display_name": "Python 3",
   "language": "python",
   "name": "python3"
  },
  "language_info": {
   "codemirror_mode": {
    "name": "ipython",
    "version": 3
   },
   "file_extension": ".py",
   "mimetype": "text/x-python",
   "name": "python",
   "nbconvert_exporter": "python",
   "pygments_lexer": "ipython3",
   "version": "3.6.3"
  }
 },
 "nbformat": 4,
 "nbformat_minor": 2
}
