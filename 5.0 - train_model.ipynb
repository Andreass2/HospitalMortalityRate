{
 "cells": [
  {
   "cell_type": "code",
   "execution_count": 1,
   "metadata": {},
   "outputs": [],
   "source": [
    "import pandas as pd\n",
    "import numpy as np\n",
    "from fastai.structured import *\n",
    "from fastai.column_data import *\n",
    "from sklearn import metrics\n",
    "from sklearn.metrics import confusion_matrix\n",
    "from metrics import print_metrics_binary\n",
    "from tqdm import TqdmSynchronisationWarning\n",
    "np.set_printoptions(threshold=50, edgeitems=20)"
   ]
  },
  {
   "cell_type": "code",
   "execution_count": 2,
   "metadata": {},
   "outputs": [],
   "source": [
    "#print(torch.cuda.current_device())\n",
    "#torch.cuda.set_device(1)"
   ]
  },
  {
   "cell_type": "code",
   "execution_count": 3,
   "metadata": {},
   "outputs": [],
   "source": [
    "warnings.filterwarnings(\"ignore\", category=TqdmSynchronisationWarning)"
   ]
  },
  {
   "cell_type": "code",
   "execution_count": 4,
   "metadata": {},
   "outputs": [],
   "source": [
    "train = pd.read_csv('./datasets/ihm/train.csv')\n",
    "test = pd.read_csv('./datasets/ihm/test.csv')\n",
    "val = pd.read_csv('./datasets/ihm/val.csv')\n",
    "train = train.drop('Unnamed: 0', axis=1)\n",
    "test = test.drop('Unnamed: 0', axis=1)\n",
    "val = val.drop('Unnamed: 0', axis=1)"
   ]
  },
  {
   "cell_type": "code",
   "execution_count": 5,
   "metadata": {},
   "outputs": [
    {
     "name": "stdout",
     "output_type": "stream",
     "text": [
      "180592\n",
      "1014121\n"
     ]
    }
   ],
   "source": [
    "print(len(train[train['Mortality'] == 1]))\n",
    "print(len(train[train['Mortality'] == 0]))"
   ]
  },
  {
   "cell_type": "code",
   "execution_count": 6,
   "metadata": {},
   "outputs": [
    {
     "name": "stdout",
     "output_type": "stream",
     "text": [
      "6347 12694\n"
     ]
    }
   ],
   "source": [
    "def balance_dataset(df):\n",
    "    split_set = []\n",
    "    num_survived = 0\n",
    "    num_died = 0\n",
    "    for episode, df_episode in df.groupby('Episode'):\n",
    "        split_set.append(df_episode)\n",
    "        if df_episode.iloc[0]['Mortality'] < 1:\n",
    "            num_survived = num_survived +1\n",
    "        else:\n",
    "            num_died = num_died +1\n",
    "    counter = 0\n",
    "    for patient in split_set:\n",
    "        if patient.iloc[0]['Mortality'] == 1 and num_died < num_survived*0.50:\n",
    "            new_patient = patient.copy()\n",
    "            new_patient[\"Episode\"] = (\"e\" + str(counter))\n",
    "            split_set.append(patient)\n",
    "            counter = counter +1\n",
    "            num_died = num_died +1\n",
    "    print(num_died, num_survived)\n",
    "    complete_data =  pd.DataFrame(columns=df.columns)\n",
    "    complete_data = pd.concat(split_set)\n",
    "    return complete_data\n",
    "\n",
    "\n",
    "\n",
    "\n",
    "train_balanced = balance_dataset(train)"
   ]
  },
  {
   "cell_type": "code",
   "execution_count": 7,
   "metadata": {},
   "outputs": [
    {
     "name": "stdout",
     "output_type": "stream",
     "text": [
      "574255\n",
      "1014121\n",
      "38996\n",
      "224337\n"
     ]
    }
   ],
   "source": [
    "print(len(train_balanced[train_balanced['Mortality'] == 1]))\n",
    "print(len(train_balanced[train_balanced['Mortality'] == 0]))\n",
    "\n",
    "\n",
    "print(len(val[val['Mortality'] == 1]))\n",
    "print(len(val[val['Mortality'] == 0]))\n"
   ]
  },
  {
   "cell_type": "code",
   "execution_count": null,
   "metadata": {},
   "outputs": [],
   "source": []
  },
  {
   "cell_type": "code",
   "execution_count": 8,
   "metadata": {},
   "outputs": [
    {
     "name": "stdout",
     "output_type": "stream",
     "text": [
      "1588376\n",
      "1851709\n"
     ]
    }
   ],
   "source": [
    "train_size = len(train_balanced)\n",
    "train_balanced = train_balanced.append(val)\n",
    "\n",
    "\n",
    "print(train_size)\n",
    "print(len(train_balanced))\n",
    "val_idx = list(range(train_size, len(train_balanced)))"
   ]
  },
  {
   "cell_type": "code",
   "execution_count": 9,
   "metadata": {},
   "outputs": [
    {
     "name": "stdout",
     "output_type": "stream",
     "text": [
      "[('Capillary refill rate', 3), ('Glascow coma scale eye opening', 6), ('Glascow coma scale motor response', 7), ('Glascow coma scale total', 14), ('Glascow coma scale verbal response', 6), ('Episode', 17904)]\n"
     ]
    }
   ],
   "source": [
    "cat_vars = ['Capillary refill rate', 'Glascow coma scale eye opening' ,'Glascow coma scale motor response','Glascow coma scale total', 'Glascow coma scale verbal response','Episode' ]\n",
    "\n",
    "\n",
    "for v in cat_vars: train_balanced[v] = train_balanced[v].astype('category').cat.as_ordered()\n",
    "for v in cat_vars: test[v] = test[v].astype('category').cat.as_ordered()\n",
    "\n",
    "cat_sz = [(c, len(train_balanced[c].cat.categories)+1) for c in cat_vars]\n",
    "\n",
    "print(cat_sz)\n",
    "\n",
    "emb_szs = [(c, min(50, (c+1)//2)) for _,c in cat_sz]"
   ]
  },
  {
   "cell_type": "code",
   "execution_count": null,
   "metadata": {},
   "outputs": [],
   "source": []
  },
  {
   "cell_type": "code",
   "execution_count": 10,
   "metadata": {},
   "outputs": [
    {
     "name": "stdout",
     "output_type": "stream",
     "text": [
      "613251\n",
      "1238458\n"
     ]
    }
   ],
   "source": [
    "print(len(train_balanced[train_balanced['Mortality'] == 1]))\n",
    "print(len(train_balanced[train_balanced['Mortality'] == 0]))"
   ]
  },
  {
   "cell_type": "code",
   "execution_count": 11,
   "metadata": {},
   "outputs": [],
   "source": [
    "df, y, nas, mapper = proc_df(train_balanced, 'Mortality', do_scale=True)\n",
    "df_test, y_test, nas_test, mapper_test = proc_df(test, do_scale=True, mapper=mapper, na_dict=nas) \n",
    "\n",
    "md = ColumnarModelData.from_data_frame('./datasets/ihm/', val_idx, df, y.astype(np.float32), cat_flds=cat_vars, bs=256,\n",
    "                                       test_df=df_test)"
   ]
  },
  {
   "cell_type": "code",
   "execution_count": 12,
   "metadata": {},
   "outputs": [
    {
     "name": "stderr",
     "output_type": "stream",
     "text": [
      "/home/andreas/Documents/HospitalMortalityRate/fastai/column_data.py:101: UserWarning: nn.init.kaiming_normal is now deprecated in favor of nn.init.kaiming_normal_.\n",
      "  for o in self.lins: kaiming_normal(o.weight.data)\n",
      "/home/andreas/Documents/HospitalMortalityRate/fastai/column_data.py:103: UserWarning: nn.init.kaiming_normal is now deprecated in favor of nn.init.kaiming_normal_.\n",
      "  kaiming_normal(self.outp.weight.data)\n"
     ]
    }
   ],
   "source": [
    "m = md.get_learner(emb_szs, len(df.columns)-len(cat_vars),\n",
    "                   0.3, 1, [1000,500,250], [0.4,0.3,0.3], y_range=[0,1], crit = torch.nn.functional.binary_cross_entropy_with_logits)"
   ]
  },
  {
   "cell_type": "code",
   "execution_count": 13,
   "metadata": {},
   "outputs": [
    {
     "data": {
      "application/vnd.jupyter.widget-view+json": {
       "model_id": "76f75a9be9f647fda9936fda2d895739",
       "version_major": 2,
       "version_minor": 0
      },
      "text/html": [
       "<p>Failed to display Jupyter Widget of type <code>HBox</code>.</p>\n",
       "<p>\n",
       "  If you're reading this message in the Jupyter Notebook or JupyterLab Notebook, it may mean\n",
       "  that the widgets JavaScript is still loading. If this message persists, it\n",
       "  likely means that the widgets JavaScript library is either not installed or\n",
       "  not enabled. See the <a href=\"https://ipywidgets.readthedocs.io/en/stable/user_install.html\">Jupyter\n",
       "  Widgets Documentation</a> for setup instructions.\n",
       "</p>\n",
       "<p>\n",
       "  If you're reading this message in another frontend (for example, a static\n",
       "  rendering on GitHub or <a href=\"https://nbviewer.jupyter.org/\">NBViewer</a>),\n",
       "  it may mean that your frontend doesn't currently support widgets.\n",
       "</p>\n"
      ],
      "text/plain": [
       "HBox(children=(IntProgress(value=0, description='Epoch', max=1), HTML(value='')))"
      ]
     },
     "metadata": {},
     "output_type": "display_data"
    },
    {
     "name": "stdout",
     "output_type": "stream",
     "text": [
      "epoch      trn_loss   val_loss                                  \n",
      "    0      0.693147   0.693147  \n",
      "\n"
     ]
    },
    {
     "data": {
      "image/png": "[encoded data removed]",
      "text/plain": [
       "<matplotlib.figure.Figure at 0x7f21b6a69390>"
      ]
     },
     "metadata": {},
     "output_type": "display_data"
    }
   ],
   "source": [
    "m.lr_find()\n",
    "m.sched.plot(100)\n"
   ]
  },
  {
   "cell_type": "code",
   "execution_count": 14,
   "metadata": {},
   "outputs": [],
   "source": [
    "lr = 0.0001\n",
    "\n",
    "\n",
    "def roc_auc(preds, y):\n",
    "    preds = np.exp(preds) #conv from log\n",
    "    return metrics.roc_auc_score(y, preds, average=\"micro\")\n",
    "\n",
    "def accuracy1(preds, targs):\n",
    "    #if np.array(targs.long()).max() == 1:\n",
    "        #print(preds, targs)\n",
    "    #print ('preds: {}, {}'.format(preds.ceil() ,type(preds)))\n",
    "    #print ('targs: {}, {}'.format(targs.ceil() ,type(targs)))\n",
    "    return (preds.long()==targs.long()).float().mean()\n"
   ]
  },
  {
   "cell_type": "code",
   "execution_count": 15,
   "metadata": {},
   "outputs": [],
   "source": [
    "lrs = [lr/18, lr/9, lr/6]"
   ]
  },
  {
   "cell_type": "code",
   "execution_count": 16,
   "metadata": {},
   "outputs": [
    {
     "data": {
      "application/vnd.jupyter.widget-view+json": {
       "model_id": "1a004bbb17cf43ae8bdb5cc4ca2180aa",
       "version_major": 2,
       "version_minor": 0
      },
      "text/html": [
       "<p>Failed to display Jupyter Widget of type <code>HBox</code>.</p>\n",
       "<p>\n",
       "  If you're reading this message in the Jupyter Notebook or JupyterLab Notebook, it may mean\n",
       "  that the widgets JavaScript is still loading. If this message persists, it\n",
       "  likely means that the widgets JavaScript library is either not installed or\n",
       "  not enabled. See the <a href=\"https://ipywidgets.readthedocs.io/en/stable/user_install.html\">Jupyter\n",
       "  Widgets Documentation</a> for setup instructions.\n",
       "</p>\n",
       "<p>\n",
       "  If you're reading this message in another frontend (for example, a static\n",
       "  rendering on GitHub or <a href=\"https://nbviewer.jupyter.org/\">NBViewer</a>),\n",
       "  it may mean that your frontend doesn't currently support widgets.\n",
       "</p>\n"
      ],
      "text/plain": [
       "HBox(children=(IntProgress(value=0, description='Epoch', max=4), HTML(value='')))"
      ]
     },
     "metadata": {},
     "output_type": "display_data"
    },
    {
     "name": "stdout",
     "output_type": "stream",
     "text": [
      "epoch      trn_loss   val_loss   accuracy1                      \n",
      "    0      0.569051   0.715542   0.851929  \n",
      "    1      0.556606   0.709522   0.85194                        \n",
      "    2      0.555172   0.706097   0.85191                        \n",
      "    3      0.555554   0.707276   0.851971                       \n",
      "\n"
     ]
    },
    {
     "data": {
      "text/plain": [
       "[0.7072755708728428, 0.8519706986936918]"
      ]
     },
     "execution_count": 16,
     "metadata": {},
     "output_type": "execute_result"
    }
   ],
   "source": [
    "m.fit(lr, 2, cycle_len=1, cycle_mult=3, metrics=[accuracy1])"
   ]
  },
  {
   "cell_type": "code",
   "execution_count": 17,
   "metadata": {},
   "outputs": [],
   "source": [
    "def split_test_set(df):\n",
    "    split_set = []\n",
    "    for episode, df_episode in df.groupby('Episode'):\n",
    "        split_set.append(df_episode)\n",
    "    return split_set\n",
    "\n",
    "test_split = split_test_set(df_test)"
   ]
  },
  {
   "cell_type": "code",
   "execution_count": 18,
   "metadata": {},
   "outputs": [
    {
     "name": "stdout",
     "output_type": "stream",
     "text": [
      "500/3236\n",
      "1000/3236\n",
      "1500/3236\n",
      "2000/3236\n",
      "2500/3236\n",
      "3000/3236\n"
     ]
    }
   ],
   "source": [
    "\n",
    "m.Precompute = False\n",
    "y_true = []\n",
    "counter = 1\n",
    "y_predicted = []\n",
    "for patient in test_split:\n",
    "    if counter % 500 == 0:\n",
    "        print(str(counter) + '/' + str(len(test_split)))\n",
    "    counter=counter+1\n",
    "    y = patient['Mortality'].iloc[0]\n",
    "    y_true.append(y)\n",
    "    p = ColumnarDataset.from_data_frame(patient.drop('Mortality', axis=1),cat_flds=cat_vars)\n",
    "    y_predicted.append(m.predict_dl(DataLoader(p)).max())\n",
    "    "
   ]
  },
  {
   "cell_type": "code",
   "execution_count": 19,
   "metadata": {},
   "outputs": [],
   "source": [
    "preds = []\n",
    "for pred in y_predicted:\n",
    "    if pred > 0.5: \n",
    "        preds.append(1)\n",
    "    else: \n",
    "        preds.append(0)"
   ]
  },
  {
   "cell_type": "code",
   "execution_count": null,
   "metadata": {},
   "outputs": [
    {
     "name": "stdout",
     "output_type": "stream",
     "text": [
      "confusion matrix:\n",
      "[[2500  362]\n",
      " [ 324   50]]\n",
      "accuracy = 0.7880099\n",
      "precision class 0 = 0.8852691\n",
      "precision class 1 = 0.12135922\n",
      "recall class 0 = 0.873515\n",
      "recall calss 1 = 0.13368984\n",
      "AUC of ROC = 0.5036024320153066\n",
      "AUC of PRC = 0.1775863361337387\n",
      "min(+P, Se) = 0.12135922330097088\n"
     ]
    },
    {
     "data": {
      "text/plain": [
       "{'acc': 0.7880099,\n",
       " 'auprc': 0.1775863361337387,\n",
       " 'auroc': 0.5036024320153066,\n",
       " 'minpse': 0.12135922330097088,\n",
       " 'prec0': 0.8852691,\n",
       " 'prec1': 0.12135922,\n",
       " 'rec0': 0.873515,\n",
       " 'rec1': 0.13368984}"
      ]
     },
     "execution_count": 20,
     "metadata": {},
     "output_type": "execute_result"
    }
   ],
   "source": [
    "print_metrics_binary(y_true, preds)\n"
   ]
  },
  {
   "cell_type": "code",
   "execution_count": null,
   "metadata": {},
   "outputs": [
    {
     "data": {
      "application/vnd.jupyter.widget-view+json": {
       "model_id": "b3cafe2c98244fe5b92113db872ecc0c",
       "version_major": 2,
       "version_minor": 0
      },
      "text/html": [
       "<p>Failed to display Jupyter Widget of type <code>HBox</code>.</p>\n",
       "<p>\n",
       "  If you're reading this message in the Jupyter Notebook or JupyterLab Notebook, it may mean\n",
       "  that the widgets JavaScript is still loading. If this message persists, it\n",
       "  likely means that the widgets JavaScript library is either not installed or\n",
       "  not enabled. See the <a href=\"https://ipywidgets.readthedocs.io/en/stable/user_install.html\">Jupyter\n",
       "  Widgets Documentation</a> for setup instructions.\n",
       "</p>\n",
       "<p>\n",
       "  If you're reading this message in another frontend (for example, a static\n",
       "  rendering on GitHub or <a href=\"https://nbviewer.jupyter.org/\">NBViewer</a>),\n",
       "  it may mean that your frontend doesn't currently support widgets.\n",
       "</p>\n"
      ],
      "text/plain": [
       "HBox(children=(IntProgress(value=0, description='Epoch', max=8), HTML(value='')))"
      ]
     },
     "metadata": {},
     "output_type": "display_data"
    },
    {
     "name": "stdout",
     "output_type": "stream",
     "text": [
      "epoch      trn_loss   val_loss   accuracy1                      \n",
      "    0      0.556063   0.709419   0.851952  \n",
      "    1      0.557535   0.707597   0.851997                       \n",
      " 56%|█████▌    | 3481/6205 [00:24<00:19, 141.49it/s, loss=0.556]"
     ]
    }
   ],
   "source": [
    "m.fit(lrs, 2, cycle_len=2, cycle_mult=3, metrics=[accuracy1])"
   ]
  },
  {
   "cell_type": "code",
   "execution_count": null,
   "metadata": {},
   "outputs": [],
   "source": [
    "y_true = []\n",
    "counter = 1\n",
    "y_predicted = []\n",
    "for patient in test_split:\n",
    "    if counter % 500 == 0:\n",
    "        print(str(counter) + '/' + str(len(test_split)))\n",
    "    counter=counter+1\n",
    "    y = patient['Mortality'].iloc[0]\n",
    "    y_true.append(y)\n",
    "    p = ColumnarDataset.from_data_frame(patient.drop('Mortality', axis=1),cat_flds=cat_vars)\n",
    "    y_predicted.append(m.predict_dl(DataLoader(p)).max())\n",
    "\n",
    "preds = []\n",
    "for pred in y_predicted:\n",
    "    if pred > 0.5: \n",
    "        preds.append(1)\n",
    "    else: \n",
    "        preds.append(0)\n",
    "        \n",
    "print_metrics_binary(y_true, preds)"
   ]
  },
  {
   "cell_type": "code",
   "execution_count": null,
   "metadata": {},
   "outputs": [],
   "source": []
  },
  {
   "cell_type": "code",
   "execution_count": null,
   "metadata": {},
   "outputs": [],
   "source": []
  },
  {
   "cell_type": "code",
   "execution_count": null,
   "metadata": {},
   "outputs": [],
   "source": []
  },
  {
   "cell_type": "code",
   "execution_count": null,
   "metadata": {},
   "outputs": [],
   "source": []
  },
  {
   "cell_type": "code",
   "execution_count": null,
   "metadata": {},
   "outputs": [],
   "source": []
  }
 ],
 "metadata": {
  "kernelspec": {
   "display_name": "Python 3",
   "language": "python",
   "name": "python3"
  },
  "language_info": {
   "codemirror_mode": {
    "name": "ipython",
    "version": 3
   },
   "file_extension": ".py",
   "mimetype": "text/x-python",
   "name": "python",
   "nbconvert_exporter": "python",
   "pygments_lexer": "ipython3",
   "version": "3.6.4"
  }
 },
 "nbformat": 4,
 "nbformat_minor": 2
}
