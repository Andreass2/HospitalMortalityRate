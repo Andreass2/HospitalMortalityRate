{
 "cells": [
  {
   "cell_type": "code",
   "execution_count": 66,
   "metadata": {},
   "outputs": [],
   "source": [
    "import pandas as pd\n",
    "import numpy as np\n",
    "from fastai.structured import *\n",
    "from fastai.column_data import *\n",
    "from sklearn import metrics\n",
    "from sklearn.metrics import confusion_matrix, roc_auc_score\n",
    "from metrics import print_metrics_binary\n",
    "import matplotlib.pyplot as plt\n",
    "#from tqdm import TqdmSynchronisationWarning\n",
    "np.set_printoptions(threshold=50, edgeitems=20)"
   ]
  },
  {
   "cell_type": "code",
   "execution_count": 2,
   "metadata": {},
   "outputs": [],
   "source": [
    "#print(torch.cuda.current_device())\n",
    "#torch.cuda.set_device(1)"
   ]
  },
  {
   "cell_type": "code",
   "execution_count": 3,
   "metadata": {},
   "outputs": [],
   "source": [
    "#warnings.filterwarnings(\"ignore\", category=TqdmSynchronisationWarning)"
   ]
  },
  {
   "cell_type": "code",
   "execution_count": 4,
   "metadata": {},
   "outputs": [],
   "source": [
    "train = pd.read_csv('./datasets/ihm/train_data.csv')\n",
    "test = pd.read_csv('./datasets/ihm/test_data.csv')\n",
    "val = pd.read_csv('./datasets/ihm/val_data.csv')\n",
    "train_data = train.drop('Unnamed: 0', axis=1)\n",
    "test_data = test.drop('Unnamed: 0', axis=1)\n",
    "val_data = val.drop('Unnamed: 0', axis=1)"
   ]
  },
  {
   "cell_type": "code",
   "execution_count": 5,
   "metadata": {},
   "outputs": [],
   "source": [
    "def balance_dataset(df):\n",
    "    for patient in split_set:\n",
    "        if patient.iloc[0]['Mortality'] == 1 and num_died*2 > counter:\n",
    "            new_patient = patient.copy()\n",
    "            new_patient[\"Episode\"] = (\"e\" + str(counter))\n",
    "            split_set.append(patient)\n",
    "            counter = counter +1\n",
    "    print(num_died+counter, num_survived)\n",
    "    complete_data =  pd.DataFrame(columns=df.columns)\n",
    "    complete_data = pd.concat(split_set)\n",
    "    return complete_data\n"
   ]
  },
  {
   "cell_type": "code",
   "execution_count": 6,
   "metadata": {},
   "outputs": [],
   "source": [
    "train_data = train_data.reset_index().drop('index', axis=1)\n",
    "val_data = val_data.reset_index().drop('index', axis=1)\n",
    "test_data = test_data.reset_index().drop('index', axis=1)"
   ]
  },
  {
   "cell_type": "code",
   "execution_count": null,
   "metadata": {},
   "outputs": [],
   "source": []
  },
  {
   "cell_type": "code",
   "execution_count": 7,
   "metadata": {},
   "outputs": [
    {
     "name": "stdout",
     "output_type": "stream",
     "text": [
      "14497\n",
      "17680\n"
     ]
    }
   ],
   "source": [
    "train_size = len(train_data)\n",
    "train_data = train_data.append(val_data)\n",
    "\n",
    "\n",
    "print(train_size)\n",
    "print(len(train_data))\n",
    "val_idx = list(range(train_size, len(train_data)))"
   ]
  },
  {
   "cell_type": "code",
   "execution_count": 8,
   "metadata": {},
   "outputs": [
    {
     "name": "stdout",
     "output_type": "stream",
     "text": [
      "[('Capillary refill rate0', 3), ('Capillary refill rate1', 3), ('Capillary refill rate2', 3), ('Capillary refill rate3', 3), ('Capillary refill rate4', 3), ('Capillary refill rate5', 3), ('Capillary refill rate6', 3), ('Capillary refill rate7', 3), ('Capillary refill rate8', 3), ('Capillary refill rate9', 3), ('Capillary refill rate10', 3), ('Capillary refill rate11', 3), ('Capillary refill rate12', 3), ('Capillary refill rate13', 3), ('Capillary refill rate14', 3), ('Capillary refill rate15', 3), ('Capillary refill rate16', 3), ('Capillary refill rate17', 3), ('Capillary refill rate18', 3), ('Capillary refill rate19', 3), ('Capillary refill rate20', 3), ('Capillary refill rate21', 3), ('Capillary refill rate22', 3), ('Capillary refill rate23', 3), ('Capillary refill rate24', 3), ('Capillary refill rate25', 3), ('Capillary refill rate26', 3), ('Capillary refill rate27', 3), ('Capillary refill rate28', 3), ('Capillary refill rate29', 3), ('Capillary refill rate30', 3), ('Capillary refill rate31', 3), ('Capillary refill rate32', 3), ('Capillary refill rate33', 3), ('Capillary refill rate34', 3), ('Capillary refill rate35', 3), ('Capillary refill rate36', 3), ('Capillary refill rate37', 3), ('Capillary refill rate38', 3), ('Capillary refill rate39', 3), ('Capillary refill rate40', 3), ('Capillary refill rate41', 3), ('Capillary refill rate42', 3), ('Capillary refill rate43', 3), ('Capillary refill rate44', 3), ('Capillary refill rate45', 3), ('Capillary refill rate46', 3), ('Capillary refill rate47', 3), ('Capillary refill rate48', 3), ('Capillary refill rate49', 3), ('Capillary refill rate50', 3), ('Capillary refill rate51', 3), ('Capillary refill rate52', 3), ('Capillary refill rate53', 3), ('Capillary refill rate54', 3), ('Capillary refill rate55', 3), ('Capillary refill rate56', 3), ('Capillary refill rate57', 3), ('Capillary refill rate58', 3), ('Capillary refill rate59', 3), ('Capillary refill rate60', 3), ('Capillary refill rate61', 3), ('Capillary refill rate62', 3), ('Capillary refill rate63', 3), ('Capillary refill rate64', 3), ('Capillary refill rate65', 3), ('Capillary refill rate66', 3), ('Capillary refill rate67', 3), ('Capillary refill rate68', 3), ('Capillary refill rate69', 3), ('Capillary refill rate70', 3), ('Capillary refill rate71', 3), ('Capillary refill rate72', 3), ('Capillary refill rate73', 3), ('Capillary refill rate74', 3), ('Capillary refill rate75', 3), ('Capillary refill rate76', 3), ('Capillary refill rate77', 3), ('Capillary refill rate78', 3), ('Capillary refill rate79', 3), ('Capillary refill rate80', 3), ('Capillary refill rate81', 3), ('Capillary refill rate82', 3), ('Capillary refill rate83', 3), ('Capillary refill rate84', 3), ('Capillary refill rate85', 3), ('Capillary refill rate86', 3), ('Capillary refill rate87', 3), ('Capillary refill rate88', 3), ('Capillary refill rate89', 3), ('Capillary refill rate90', 3), ('Capillary refill rate91', 3), ('Capillary refill rate92', 3), ('Capillary refill rate93', 3), ('Capillary refill rate94', 3), ('Capillary refill rate95', 3), ('Capillary refill rate96', 3), ('Capillary refill rate97', 3), ('Capillary refill rate98', 3), ('Capillary refill rate99', 3), ('Glascow coma scale eye opening0', 6), ('Glascow coma scale eye opening1', 6), ('Glascow coma scale eye opening2', 6), ('Glascow coma scale eye opening3', 6), ('Glascow coma scale eye opening4', 6), ('Glascow coma scale eye opening5', 6), ('Glascow coma scale eye opening6', 6), ('Glascow coma scale eye opening7', 6), ('Glascow coma scale eye opening8', 6), ('Glascow coma scale eye opening9', 6), ('Glascow coma scale eye opening10', 6), ('Glascow coma scale eye opening11', 6), ('Glascow coma scale eye opening12', 6), ('Glascow coma scale eye opening13', 6), ('Glascow coma scale eye opening14', 6), ('Glascow coma scale eye opening15', 6), ('Glascow coma scale eye opening16', 6), ('Glascow coma scale eye opening17', 6), ('Glascow coma scale eye opening18', 6), ('Glascow coma scale eye opening19', 6), ('Glascow coma scale eye opening20', 6), ('Glascow coma scale eye opening21', 6), ('Glascow coma scale eye opening22', 6), ('Glascow coma scale eye opening23', 6), ('Glascow coma scale eye opening24', 6), ('Glascow coma scale eye opening25', 6), ('Glascow coma scale eye opening26', 6), ('Glascow coma scale eye opening27', 6), ('Glascow coma scale eye opening28', 6), ('Glascow coma scale eye opening29', 6), ('Glascow coma scale eye opening30', 6), ('Glascow coma scale eye opening31', 6), ('Glascow coma scale eye opening32', 6), ('Glascow coma scale eye opening33', 6), ('Glascow coma scale eye opening34', 6), ('Glascow coma scale eye opening35', 6), ('Glascow coma scale eye opening36', 6), ('Glascow coma scale eye opening37', 6), ('Glascow coma scale eye opening38', 6), ('Glascow coma scale eye opening39', 6), ('Glascow coma scale eye opening40', 6), ('Glascow coma scale eye opening41', 6), ('Glascow coma scale eye opening42', 6), ('Glascow coma scale eye opening43', 6), ('Glascow coma scale eye opening44', 6), ('Glascow coma scale eye opening45', 6), ('Glascow coma scale eye opening46', 6), ('Glascow coma scale eye opening47', 6), ('Glascow coma scale eye opening48', 6), ('Glascow coma scale eye opening49', 6), ('Glascow coma scale eye opening50', 6), ('Glascow coma scale eye opening51', 6), ('Glascow coma scale eye opening52', 6), ('Glascow coma scale eye opening53', 6), ('Glascow coma scale eye opening54', 6), ('Glascow coma scale eye opening55', 6), ('Glascow coma scale eye opening56', 6), ('Glascow coma scale eye opening57', 6), ('Glascow coma scale eye opening58', 6), ('Glascow coma scale eye opening59', 6), ('Glascow coma scale eye opening60', 6), ('Glascow coma scale eye opening61', 6), ('Glascow coma scale eye opening62', 6), ('Glascow coma scale eye opening63', 6), ('Glascow coma scale eye opening64', 6), ('Glascow coma scale eye opening65', 6), ('Glascow coma scale eye opening66', 6), ('Glascow coma scale eye opening67', 6), ('Glascow coma scale eye opening68', 6), ('Glascow coma scale eye opening69', 6), ('Glascow coma scale eye opening70', 6), ('Glascow coma scale eye opening71', 6), ('Glascow coma scale eye opening72', 6), ('Glascow coma scale eye opening73', 6), ('Glascow coma scale eye opening74', 6), ('Glascow coma scale eye opening75', 6), ('Glascow coma scale eye opening76', 6), ('Glascow coma scale eye opening77', 6), ('Glascow coma scale eye opening78', 6), ('Glascow coma scale eye opening79', 6), ('Glascow coma scale eye opening80', 6), ('Glascow coma scale eye opening81', 6), ('Glascow coma scale eye opening82', 6), ('Glascow coma scale eye opening83', 6), ('Glascow coma scale eye opening84', 6), ('Glascow coma scale eye opening85', 6), ('Glascow coma scale eye opening86', 6), ('Glascow coma scale eye opening87', 6), ('Glascow coma scale eye opening88', 6), ('Glascow coma scale eye opening89', 6), ('Glascow coma scale eye opening90', 6), ('Glascow coma scale eye opening91', 6), ('Glascow coma scale eye opening92', 6), ('Glascow coma scale eye opening93', 6), ('Glascow coma scale eye opening94', 6), ('Glascow coma scale eye opening95', 6), ('Glascow coma scale eye opening96', 6), ('Glascow coma scale eye opening97', 6), ('Glascow coma scale eye opening98', 6), ('Glascow coma scale eye opening99', 6), ('Glascow coma scale motor response0', 7), ('Glascow coma scale motor response1', 7), ('Glascow coma scale motor response2', 7), ('Glascow coma scale motor response3', 7), ('Glascow coma scale motor response4', 7), ('Glascow coma scale motor response5', 7), ('Glascow coma scale motor response6', 7), ('Glascow coma scale motor response7', 7), ('Glascow coma scale motor response8', 7), ('Glascow coma scale motor response9', 7), ('Glascow coma scale motor response10', 7), ('Glascow coma scale motor response11', 7), ('Glascow coma scale motor response12', 7), ('Glascow coma scale motor response13', 7), ('Glascow coma scale motor response14', 7), ('Glascow coma scale motor response15', 7), ('Glascow coma scale motor response16', 7), ('Glascow coma scale motor response17', 7), ('Glascow coma scale motor response18', 7), ('Glascow coma scale motor response19', 7), ('Glascow coma scale motor response20', 7), ('Glascow coma scale motor response21', 7), ('Glascow coma scale motor response22', 7), ('Glascow coma scale motor response23', 7), ('Glascow coma scale motor response24', 7), ('Glascow coma scale motor response25', 7), ('Glascow coma scale motor response26', 7), ('Glascow coma scale motor response27', 7), ('Glascow coma scale motor response28', 7), ('Glascow coma scale motor response29', 7), ('Glascow coma scale motor response30', 7), ('Glascow coma scale motor response31', 7), ('Glascow coma scale motor response32', 7), ('Glascow coma scale motor response33', 7), ('Glascow coma scale motor response34', 7), ('Glascow coma scale motor response35', 7), ('Glascow coma scale motor response36', 7), ('Glascow coma scale motor response37', 7), ('Glascow coma scale motor response38', 7), ('Glascow coma scale motor response39', 7), ('Glascow coma scale motor response40', 7), ('Glascow coma scale motor response41', 7), ('Glascow coma scale motor response42', 7), ('Glascow coma scale motor response43', 7), ('Glascow coma scale motor response44', 7), ('Glascow coma scale motor response45', 7), ('Glascow coma scale motor response46', 7), ('Glascow coma scale motor response47', 7), ('Glascow coma scale motor response48', 7), ('Glascow coma scale motor response49', 7), ('Glascow coma scale motor response50', 7), ('Glascow coma scale motor response51', 7), ('Glascow coma scale motor response52', 7), ('Glascow coma scale motor response53', 7), ('Glascow coma scale motor response54', 7), ('Glascow coma scale motor response55', 7), ('Glascow coma scale motor response56', 7), ('Glascow coma scale motor response57', 7), ('Glascow coma scale motor response58', 7), ('Glascow coma scale motor response59', 7), ('Glascow coma scale motor response60', 7), ('Glascow coma scale motor response61', 7), ('Glascow coma scale motor response62', 7), ('Glascow coma scale motor response63', 7), ('Glascow coma scale motor response64', 7), ('Glascow coma scale motor response65', 7), ('Glascow coma scale motor response66', 7), ('Glascow coma scale motor response67', 7), ('Glascow coma scale motor response68', 7), ('Glascow coma scale motor response69', 7), ('Glascow coma scale motor response70', 7), ('Glascow coma scale motor response71', 7), ('Glascow coma scale motor response72', 7), ('Glascow coma scale motor response73', 7), ('Glascow coma scale motor response74', 7), ('Glascow coma scale motor response75', 7), ('Glascow coma scale motor response76', 7), ('Glascow coma scale motor response77', 7), ('Glascow coma scale motor response78', 7), ('Glascow coma scale motor response79', 7), ('Glascow coma scale motor response80', 7), ('Glascow coma scale motor response81', 7), ('Glascow coma scale motor response82', 7), ('Glascow coma scale motor response83', 7), ('Glascow coma scale motor response84', 7), ('Glascow coma scale motor response85', 7), ('Glascow coma scale motor response86', 7), ('Glascow coma scale motor response87', 7), ('Glascow coma scale motor response88', 7), ('Glascow coma scale motor response89', 7), ('Glascow coma scale motor response90', 7), ('Glascow coma scale motor response91', 7), ('Glascow coma scale motor response92', 7), ('Glascow coma scale motor response93', 7), ('Glascow coma scale motor response94', 7), ('Glascow coma scale motor response95', 7), ('Glascow coma scale motor response96', 7), ('Glascow coma scale motor response97', 7), ('Glascow coma scale motor response98', 7), ('Glascow coma scale motor response99', 7), ('Glascow coma scale total0', 14), ('Glascow coma scale total1', 14), ('Glascow coma scale total2', 14), ('Glascow coma scale total3', 14), ('Glascow coma scale total4', 14), ('Glascow coma scale total5', 14), ('Glascow coma scale total6', 14), ('Glascow coma scale total7', 14), ('Glascow coma scale total8', 14), ('Glascow coma scale total9', 14), ('Glascow coma scale total10', 14), ('Glascow coma scale total11', 14), ('Glascow coma scale total12', 14), ('Glascow coma scale total13', 14), ('Glascow coma scale total14', 14), ('Glascow coma scale total15', 14), ('Glascow coma scale total16', 14), ('Glascow coma scale total17', 14), ('Glascow coma scale total18', 14), ('Glascow coma scale total19', 14), ('Glascow coma scale total20', 14), ('Glascow coma scale total21', 14), ('Glascow coma scale total22', 14), ('Glascow coma scale total23', 14), ('Glascow coma scale total24', 14), ('Glascow coma scale total25', 14), ('Glascow coma scale total26', 14), ('Glascow coma scale total27', 14), ('Glascow coma scale total28', 14), ('Glascow coma scale total29', 14), ('Glascow coma scale total30', 14), ('Glascow coma scale total31', 14), ('Glascow coma scale total32', 14), ('Glascow coma scale total33', 14), ('Glascow coma scale total34', 14), ('Glascow coma scale total35', 14), ('Glascow coma scale total36', 14), ('Glascow coma scale total37', 14), ('Glascow coma scale total38', 14), ('Glascow coma scale total39', 14), ('Glascow coma scale total40', 14), ('Glascow coma scale total41', 14), ('Glascow coma scale total42', 14), ('Glascow coma scale total43', 14), ('Glascow coma scale total44', 14), ('Glascow coma scale total45', 14), ('Glascow coma scale total46', 14), ('Glascow coma scale total47', 14), ('Glascow coma scale total48', 14), ('Glascow coma scale total49', 14), ('Glascow coma scale total50', 14), ('Glascow coma scale total51', 14), ('Glascow coma scale total52', 14), ('Glascow coma scale total53', 14), ('Glascow coma scale total54', 14), ('Glascow coma scale total55', 14), ('Glascow coma scale total56', 14), ('Glascow coma scale total57', 14), ('Glascow coma scale total58', 14), ('Glascow coma scale total59', 14), ('Glascow coma scale total60', 14), ('Glascow coma scale total61', 14), ('Glascow coma scale total62', 14), ('Glascow coma scale total63', 14), ('Glascow coma scale total64', 14), ('Glascow coma scale total65', 14), ('Glascow coma scale total66', 14), ('Glascow coma scale total67', 14), ('Glascow coma scale total68', 14), ('Glascow coma scale total69', 14), ('Glascow coma scale total70', 14), ('Glascow coma scale total71', 14), ('Glascow coma scale total72', 14), ('Glascow coma scale total73', 14), ('Glascow coma scale total74', 14), ('Glascow coma scale total75', 14), ('Glascow coma scale total76', 14), ('Glascow coma scale total77', 14), ('Glascow coma scale total78', 14), ('Glascow coma scale total79', 14), ('Glascow coma scale total80', 14), ('Glascow coma scale total81', 14), ('Glascow coma scale total82', 14), ('Glascow coma scale total83', 14), ('Glascow coma scale total84', 14), ('Glascow coma scale total85', 14), ('Glascow coma scale total86', 14), ('Glascow coma scale total87', 14), ('Glascow coma scale total88', 14), ('Glascow coma scale total89', 14), ('Glascow coma scale total90', 14), ('Glascow coma scale total91', 14), ('Glascow coma scale total92', 14), ('Glascow coma scale total93', 14), ('Glascow coma scale total94', 14), ('Glascow coma scale total95', 14), ('Glascow coma scale total96', 14), ('Glascow coma scale total97', 14), ('Glascow coma scale total98', 14), ('Glascow coma scale total99', 14), ('Glascow coma scale verbal response0', 6), ('Glascow coma scale verbal response1', 6), ('Glascow coma scale verbal response2', 6), ('Glascow coma scale verbal response3', 6), ('Glascow coma scale verbal response4', 6), ('Glascow coma scale verbal response5', 6), ('Glascow coma scale verbal response6', 6), ('Glascow coma scale verbal response7', 6), ('Glascow coma scale verbal response8', 6), ('Glascow coma scale verbal response9', 6), ('Glascow coma scale verbal response10', 6), ('Glascow coma scale verbal response11', 6), ('Glascow coma scale verbal response12', 6), ('Glascow coma scale verbal response13', 6), ('Glascow coma scale verbal response14', 6), ('Glascow coma scale verbal response15', 6), ('Glascow coma scale verbal response16', 6), ('Glascow coma scale verbal response17', 6), ('Glascow coma scale verbal response18', 6), ('Glascow coma scale verbal response19', 6), ('Glascow coma scale verbal response20', 6), ('Glascow coma scale verbal response21', 6), ('Glascow coma scale verbal response22', 6), ('Glascow coma scale verbal response23', 6), ('Glascow coma scale verbal response24', 6), ('Glascow coma scale verbal response25', 6), ('Glascow coma scale verbal response26', 6), ('Glascow coma scale verbal response27', 6), ('Glascow coma scale verbal response28', 6), ('Glascow coma scale verbal response29', 6), ('Glascow coma scale verbal response30', 6), ('Glascow coma scale verbal response31', 6), ('Glascow coma scale verbal response32', 6), ('Glascow coma scale verbal response33', 6), ('Glascow coma scale verbal response34', 6), ('Glascow coma scale verbal response35', 6), ('Glascow coma scale verbal response36', 6), ('Glascow coma scale verbal response37', 6), ('Glascow coma scale verbal response38', 6), ('Glascow coma scale verbal response39', 6), ('Glascow coma scale verbal response40', 6), ('Glascow coma scale verbal response41', 6), ('Glascow coma scale verbal response42', 6), ('Glascow coma scale verbal response43', 6), ('Glascow coma scale verbal response44', 6), ('Glascow coma scale verbal response45', 6), ('Glascow coma scale verbal response46', 6), ('Glascow coma scale verbal response47', 6), ('Glascow coma scale verbal response48', 6), ('Glascow coma scale verbal response49', 6), ('Glascow coma scale verbal response50', 6), ('Glascow coma scale verbal response51', 6), ('Glascow coma scale verbal response52', 6), ('Glascow coma scale verbal response53', 6), ('Glascow coma scale verbal response54', 6), ('Glascow coma scale verbal response55', 6), ('Glascow coma scale verbal response56', 6), ('Glascow coma scale verbal response57', 6), ('Glascow coma scale verbal response58', 6), ('Glascow coma scale verbal response59', 6), ('Glascow coma scale verbal response60', 6), ('Glascow coma scale verbal response61', 6), ('Glascow coma scale verbal response62', 6), ('Glascow coma scale verbal response63', 6), ('Glascow coma scale verbal response64', 6), ('Glascow coma scale verbal response65', 6), ('Glascow coma scale verbal response66', 6), ('Glascow coma scale verbal response67', 6), ('Glascow coma scale verbal response68', 6), ('Glascow coma scale verbal response69', 6), ('Glascow coma scale verbal response70', 6), ('Glascow coma scale verbal response71', 6), ('Glascow coma scale verbal response72', 6), ('Glascow coma scale verbal response73', 6), ('Glascow coma scale verbal response74', 6), ('Glascow coma scale verbal response75', 6), ('Glascow coma scale verbal response76', 6), ('Glascow coma scale verbal response77', 6), ('Glascow coma scale verbal response78', 6), ('Glascow coma scale verbal response79', 6), ('Glascow coma scale verbal response80', 6), ('Glascow coma scale verbal response81', 6), ('Glascow coma scale verbal response82', 6), ('Glascow coma scale verbal response83', 6), ('Glascow coma scale verbal response84', 6), ('Glascow coma scale verbal response85', 6), ('Glascow coma scale verbal response86', 6), ('Glascow coma scale verbal response87', 6), ('Glascow coma scale verbal response88', 6), ('Glascow coma scale verbal response89', 6), ('Glascow coma scale verbal response90', 6), ('Glascow coma scale verbal response91', 6), ('Glascow coma scale verbal response92', 6), ('Glascow coma scale verbal response93', 6), ('Glascow coma scale verbal response94', 6), ('Glascow coma scale verbal response95', 6), ('Glascow coma scale verbal response96', 6), ('Glascow coma scale verbal response97', 6), ('Glascow coma scale verbal response98', 6), ('Glascow coma scale verbal response99', 6), ('Length', 2)]\n"
     ]
    }
   ],
   "source": [
    "cat_vars = ['Capillary refill rate', 'Glascow coma scale eye opening' ,'Glascow coma scale motor response','Glascow coma scale total', 'Glascow coma scale verbal response']\n",
    "\n",
    "all_cat_vars = []\n",
    "counter = 0\n",
    "for cat in cat_vars:\n",
    "    for i in range(0,100):\n",
    "        all_cat_vars.append(cat+str(i))\n",
    "\n",
    "all_cat_vars.append('Length')\n",
    "for v in all_cat_vars: train_data[v] = train_data[v].astype('category').cat.as_ordered()\n",
    "for v in all_cat_vars: test_data[v] = test_data[v].astype('category').cat.as_ordered()\n",
    "\n",
    "cat_sz = [(c, len(train_data[c].cat.categories)+1) for c in all_cat_vars]\n",
    "\n",
    "print(cat_sz)\n",
    "\n",
    "emb_szs = [(c, min(50, (c+1)//2)) for _,c in cat_sz]"
   ]
  },
  {
   "cell_type": "code",
   "execution_count": 12,
   "metadata": {},
   "outputs": [
    {
     "data": {
      "text/html": [
       "<div>\n",
       "<style scoped>\n",
       "    .dataframe tbody tr th:only-of-type {\n",
       "        vertical-align: middle;\n",
       "    }\n",
       "\n",
       "    .dataframe tbody tr th {\n",
       "        vertical-align: top;\n",
       "    }\n",
       "\n",
       "    .dataframe thead th {\n",
       "        text-align: right;\n",
       "    }\n",
       "</style>\n",
       "<table border=\"1\" class=\"dataframe\">\n",
       "  <thead>\n",
       "    <tr style=\"text-align: right;\">\n",
       "      <th></th>\n",
       "      <th>Hours0</th>\n",
       "      <th>Capillary refill rate0</th>\n",
       "      <th>Diastolic blood pressure0</th>\n",
       "      <th>Fraction inspired oxygen0</th>\n",
       "      <th>Glascow coma scale eye opening0</th>\n",
       "      <th>Glascow coma scale motor response0</th>\n",
       "      <th>Glascow coma scale total0</th>\n",
       "      <th>Glascow coma scale verbal response0</th>\n",
       "      <th>Glucose0</th>\n",
       "      <th>Heart Rate0</th>\n",
       "      <th>...</th>\n",
       "      <th>Height99</th>\n",
       "      <th>Mean blood pressure99</th>\n",
       "      <th>Oxygen saturation99</th>\n",
       "      <th>Respiratory rate99</th>\n",
       "      <th>Systolic blood pressure99</th>\n",
       "      <th>Temperature99</th>\n",
       "      <th>Weight99</th>\n",
       "      <th>pH99</th>\n",
       "      <th>Length</th>\n",
       "      <th>Mortality</th>\n",
       "    </tr>\n",
       "  </thead>\n",
       "  <tbody>\n",
       "    <tr>\n",
       "      <th>0</th>\n",
       "      <td>0.433333</td>\n",
       "      <td>0.0</td>\n",
       "      <td>49.0</td>\n",
       "      <td>0.21</td>\n",
       "      <td>Spontaneously</td>\n",
       "      <td>Obeys Commands</td>\n",
       "      <td>15.0</td>\n",
       "      <td>Oriented</td>\n",
       "      <td>128.0</td>\n",
       "      <td>81.0</td>\n",
       "      <td>...</td>\n",
       "      <td>170.0</td>\n",
       "      <td>64.333298</td>\n",
       "      <td>98.0</td>\n",
       "      <td>16.0</td>\n",
       "      <td>99.0</td>\n",
       "      <td>36.333334</td>\n",
       "      <td>81.000000</td>\n",
       "      <td>7.47</td>\n",
       "      <td>100</td>\n",
       "      <td>1</td>\n",
       "    </tr>\n",
       "    <tr>\n",
       "      <th>1</th>\n",
       "      <td>0.078333</td>\n",
       "      <td>0.0</td>\n",
       "      <td>38.0</td>\n",
       "      <td>0.21</td>\n",
       "      <td>Spontaneously</td>\n",
       "      <td>Obeys Commands</td>\n",
       "      <td>15.0</td>\n",
       "      <td>Oriented</td>\n",
       "      <td>128.0</td>\n",
       "      <td>65.0</td>\n",
       "      <td>...</td>\n",
       "      <td>170.0</td>\n",
       "      <td>82.000000</td>\n",
       "      <td>98.0</td>\n",
       "      <td>10.0</td>\n",
       "      <td>169.0</td>\n",
       "      <td>37.055599</td>\n",
       "      <td>64.900002</td>\n",
       "      <td>5.00</td>\n",
       "      <td>100</td>\n",
       "      <td>0</td>\n",
       "    </tr>\n",
       "    <tr>\n",
       "      <th>2</th>\n",
       "      <td>0.700000</td>\n",
       "      <td>0.0</td>\n",
       "      <td>43.0</td>\n",
       "      <td>0.21</td>\n",
       "      <td>Spontaneously</td>\n",
       "      <td>Obeys Commands</td>\n",
       "      <td>15.0</td>\n",
       "      <td>Oriented</td>\n",
       "      <td>128.0</td>\n",
       "      <td>70.0</td>\n",
       "      <td>...</td>\n",
       "      <td>170.0</td>\n",
       "      <td>54.666698</td>\n",
       "      <td>97.0</td>\n",
       "      <td>25.0</td>\n",
       "      <td>100.0</td>\n",
       "      <td>36.333334</td>\n",
       "      <td>81.000000</td>\n",
       "      <td>7.40</td>\n",
       "      <td>100</td>\n",
       "      <td>0</td>\n",
       "    </tr>\n",
       "    <tr>\n",
       "      <th>3</th>\n",
       "      <td>0.316944</td>\n",
       "      <td>0.0</td>\n",
       "      <td>64.0</td>\n",
       "      <td>0.21</td>\n",
       "      <td>Spontaneously</td>\n",
       "      <td>Obeys Commands</td>\n",
       "      <td>15.0</td>\n",
       "      <td>Oriented</td>\n",
       "      <td>128.0</td>\n",
       "      <td>67.0</td>\n",
       "      <td>...</td>\n",
       "      <td>170.0</td>\n",
       "      <td>67.000000</td>\n",
       "      <td>94.0</td>\n",
       "      <td>17.0</td>\n",
       "      <td>109.0</td>\n",
       "      <td>37.700001</td>\n",
       "      <td>90.199997</td>\n",
       "      <td>7.37</td>\n",
       "      <td>100</td>\n",
       "      <td>0</td>\n",
       "    </tr>\n",
       "    <tr>\n",
       "      <th>4</th>\n",
       "      <td>2.089167</td>\n",
       "      <td>0.0</td>\n",
       "      <td>35.0</td>\n",
       "      <td>0.21</td>\n",
       "      <td>To Speech</td>\n",
       "      <td>Localizes Pain</td>\n",
       "      <td>10.0</td>\n",
       "      <td>Incomprehensible sounds</td>\n",
       "      <td>128.0</td>\n",
       "      <td>96.0</td>\n",
       "      <td>...</td>\n",
       "      <td>170.0</td>\n",
       "      <td>69.000000</td>\n",
       "      <td>99.0</td>\n",
       "      <td>13.0</td>\n",
       "      <td>105.0</td>\n",
       "      <td>35.222223</td>\n",
       "      <td>83.000000</td>\n",
       "      <td>7.40</td>\n",
       "      <td>100</td>\n",
       "      <td>0</td>\n",
       "    </tr>\n",
       "  </tbody>\n",
       "</table>\n",
       "<p>5 rows × 1802 columns</p>\n",
       "</div>"
      ],
      "text/plain": [
       "     Hours0 Capillary refill rate0  Diastolic blood pressure0  \\\n",
       "0  0.433333                    0.0                       49.0   \n",
       "1  0.078333                    0.0                       38.0   \n",
       "2  0.700000                    0.0                       43.0   \n",
       "3  0.316944                    0.0                       64.0   \n",
       "4  2.089167                    0.0                       35.0   \n",
       "\n",
       "   Fraction inspired oxygen0 Glascow coma scale eye opening0  \\\n",
       "0                       0.21                   Spontaneously   \n",
       "1                       0.21                   Spontaneously   \n",
       "2                       0.21                   Spontaneously   \n",
       "3                       0.21                   Spontaneously   \n",
       "4                       0.21                       To Speech   \n",
       "\n",
       "  Glascow coma scale motor response0 Glascow coma scale total0  \\\n",
       "0                     Obeys Commands                      15.0   \n",
       "1                     Obeys Commands                      15.0   \n",
       "2                     Obeys Commands                      15.0   \n",
       "3                     Obeys Commands                      15.0   \n",
       "4                     Localizes Pain                      10.0   \n",
       "\n",
       "  Glascow coma scale verbal response0  Glucose0  Heart Rate0    ...     \\\n",
       "0                            Oriented     128.0         81.0    ...      \n",
       "1                            Oriented     128.0         65.0    ...      \n",
       "2                            Oriented     128.0         70.0    ...      \n",
       "3                            Oriented     128.0         67.0    ...      \n",
       "4             Incomprehensible sounds     128.0         96.0    ...      \n",
       "\n",
       "   Height99  Mean blood pressure99  Oxygen saturation99  Respiratory rate99  \\\n",
       "0     170.0              64.333298                 98.0                16.0   \n",
       "1     170.0              82.000000                 98.0                10.0   \n",
       "2     170.0              54.666698                 97.0                25.0   \n",
       "3     170.0              67.000000                 94.0                17.0   \n",
       "4     170.0              69.000000                 99.0                13.0   \n",
       "\n",
       "   Systolic blood pressure99  Temperature99   Weight99  pH99  Length Mortality  \n",
       "0                       99.0      36.333334  81.000000  7.47     100         1  \n",
       "1                      169.0      37.055599  64.900002  5.00     100         0  \n",
       "2                      100.0      36.333334  81.000000  7.40     100         0  \n",
       "3                      109.0      37.700001  90.199997  7.37     100         0  \n",
       "4                      105.0      35.222223  83.000000  7.40     100         0  \n",
       "\n",
       "[5 rows x 1802 columns]"
      ]
     },
     "execution_count": 12,
     "metadata": {},
     "output_type": "execute_result"
    }
   ],
   "source": [
    "test_data.head()"
   ]
  },
  {
   "cell_type": "code",
   "execution_count": 9,
   "metadata": {},
   "outputs": [
    {
     "name": "stdout",
     "output_type": "stream",
     "text": [
      "2402\n",
      "15278\n"
     ]
    }
   ],
   "source": [
    "print(len(train_data[train_data['Mortality'] == 1]))\n",
    "print(len(train_data[train_data['Mortality'] == 0]))"
   ]
  },
  {
   "cell_type": "code",
   "execution_count": 21,
   "metadata": {},
   "outputs": [
    {
     "name": "stdout",
     "output_type": "stream",
     "text": [
      "1802\n",
      "1802\n"
     ]
    }
   ],
   "source": [
    "print(len(train_data.columns))\n",
    "print(len(test_data.columns))"
   ]
  },
  {
   "cell_type": "code",
   "execution_count": 196,
   "metadata": {},
   "outputs": [],
   "source": [
    "df, y, nas, mapper = proc_df(train_data, 'Mortality', do_scale=True)\n",
    "df_test, y_test, nas_test, mapper_test = proc_df(test_data, 'Mortality', do_scale=True, mapper=mapper, na_dict=nas) \n",
    "\n",
    "md = ColumnarModelData.from_data_frame('./datasets/ihm/', val_idx, df, y.astype(np.float32), cat_flds=all_cat_vars, bs=32,\n",
    "                                       test_df=df_test)"
   ]
  },
  {
   "cell_type": "code",
   "execution_count": 215,
   "metadata": {},
   "outputs": [],
   "source": [
    "m = md.get_learner(emb_szs, len(df.columns)-len(all_cat_vars),\n",
    "                   0.04, 1, [500,250], [0.001,0.01], y_range=[0,1], crit = torch.nn.functional.binary_cross_entropy)"
   ]
  },
  {
   "cell_type": "code",
   "execution_count": 216,
   "metadata": {},
   "outputs": [
    {
     "data": {
      "application/vnd.jupyter.widget-view+json": {
       "model_id": "134a0f34be0a4bdb8b53a053343ed6cb",
       "version_major": 2,
       "version_minor": 0
      },
      "text/html": [
       "<p>Failed to display Jupyter Widget of type <code>HBox</code>.</p>\n",
       "<p>\n",
       "  If you're reading this message in the Jupyter Notebook or JupyterLab Notebook, it may mean\n",
       "  that the widgets JavaScript is still loading. If this message persists, it\n",
       "  likely means that the widgets JavaScript library is either not installed or\n",
       "  not enabled. See the <a href=\"https://ipywidgets.readthedocs.io/en/stable/user_install.html\">Jupyter\n",
       "  Widgets Documentation</a> for setup instructions.\n",
       "</p>\n",
       "<p>\n",
       "  If you're reading this message in another frontend (for example, a static\n",
       "  rendering on GitHub or <a href=\"https://nbviewer.jupyter.org/\">NBViewer</a>),\n",
       "  it may mean that your frontend doesn't currently support widgets.\n",
       "</p>\n"
      ],
      "text/plain": [
       "HBox(children=(IntProgress(value=0, description='Epoch', max=1), HTML(value='')))"
      ]
     },
     "metadata": {},
     "output_type": "display_data"
    },
    {
     "name": "stdout",
     "output_type": "stream",
     "text": [
      " 63%|██████▎   | 288/454 [00:25<00:14, 11.42it/s, loss=1.35] "
     ]
    },
    {
     "data": {
      "image/png": "[encoded data removed]",
      "text/plain": [
       "<matplotlib.figure.Figure at 0x7f6734e85208>"
      ]
     },
     "metadata": {},
     "output_type": "display_data"
    },
    {
     "name": "stdout",
     "output_type": "stream",
     "text": [
      "\r",
      " 63%|██████▎   | 288/454 [00:40<00:23,  7.20it/s, loss=1.35]"
     ]
    }
   ],
   "source": [
    "m.lr_find()\n",
    "m.sched.plot(100)\n"
   ]
  },
  {
   "cell_type": "code",
   "execution_count": 217,
   "metadata": {},
   "outputs": [],
   "source": [
    "lr = 0.0001\n"
   ]
  },
  {
   "cell_type": "code",
   "execution_count": 218,
   "metadata": {},
   "outputs": [],
   "source": [
    "lrs = [lr/18, lr/9, lr/6]"
   ]
  },
  {
   "cell_type": "code",
   "execution_count": 219,
   "metadata": {},
   "outputs": [
    {
     "data": {
      "application/vnd.jupyter.widget-view+json": {
       "model_id": "b28528e8493343c582c9ccd7488642af",
       "version_major": 2,
       "version_minor": 0
      },
      "text/html": [
       "<p>Failed to display Jupyter Widget of type <code>HBox</code>.</p>\n",
       "<p>\n",
       "  If you're reading this message in the Jupyter Notebook or JupyterLab Notebook, it may mean\n",
       "  that the widgets JavaScript is still loading. If this message persists, it\n",
       "  likely means that the widgets JavaScript library is either not installed or\n",
       "  not enabled. See the <a href=\"https://ipywidgets.readthedocs.io/en/stable/user_install.html\">Jupyter\n",
       "  Widgets Documentation</a> for setup instructions.\n",
       "</p>\n",
       "<p>\n",
       "  If you're reading this message in another frontend (for example, a static\n",
       "  rendering on GitHub or <a href=\"https://nbviewer.jupyter.org/\">NBViewer</a>),\n",
       "  it may mean that your frontend doesn't currently support widgets.\n",
       "</p>\n"
      ],
      "text/plain": [
       "HBox(children=(IntProgress(value=0, description='Epoch', max=6), HTML(value='')))"
      ]
     },
     "metadata": {},
     "output_type": "display_data"
    },
    {
     "name": "stdout",
     "output_type": "stream",
     "text": [
      " 10%|▉         | 45/454 [00:04<00:37, 10.78it/s, loss=0.725]\n",
      " 10%|█         | 47/454 [00:04<00:38, 10.61it/s, loss=0.728]"
     ]
    },
    {
     "name": "stderr",
     "output_type": "stream",
     "text": [
      "Exception in thread Thread-206:\n",
      "Traceback (most recent call last):\n",
      "  File \"/home/andreas/anaconda3/lib/python3.6/threading.py\", line 916, in _bootstrap_inner\n",
      "    self.run()\n",
      "  File \"/home/andreas/anaconda3/lib/python3.6/site-packages/tqdm/_monitor.py\", line 62, in run\n",
      "    for instance in self.tqdm_cls._instances:\n",
      "  File \"/home/andreas/anaconda3/lib/python3.6/_weakrefset.py\", line 60, in __iter__\n",
      "    for itemref in self.data:\n",
      "RuntimeError: Set changed size during iteration\n",
      "\n"
     ]
    },
    {
     "name": "stdout",
     "output_type": "stream",
     "text": [
      "epoch      trn_loss   val_loss                               \n",
      "    0      0.330553   0.336411  \n",
      "    1      0.319664   0.330256                               \n",
      "    2      0.302278   0.313701                               \n",
      "    3      0.276005   0.307034                               \n",
      "    4      0.289316   0.304794                               \n",
      "    5      0.269852   0.304529                               \n",
      "\n"
     ]
    },
    {
     "data": {
      "text/plain": [
       "[array([0.30453])]"
      ]
     },
     "execution_count": 219,
     "metadata": {},
     "output_type": "execute_result"
    }
   ],
   "source": [
    "m.fit(lrs, 2, cycle_len=2, cycle_mult=2)"
   ]
  },
  {
   "cell_type": "code",
   "execution_count": 220,
   "metadata": {},
   "outputs": [
    {
     "name": "stdout",
     "output_type": "stream",
     "text": [
      "confusion matrix:\n",
      "[[2752   65]\n",
      " [ 284   84]]\n",
      "accuracy = 0.89042383\n",
      "precision class 0 = 0.9064559\n",
      "precision class 1 = 0.5637584\n",
      "recall class 0 = 0.9769258\n",
      "recall calss 1 = 0.22826087\n",
      "AUC of ROC = 0.6025933385809756\n",
      "AUC of PRC = 0.44059361685461146\n",
      "min(+P, Se) = 0.22826086956521738\n"
     ]
    }
   ],
   "source": [
    "y_predicted = m.predict(is_test=True)\n",
    "preds = []\n",
    "for pred in y_predicted:\n",
    "    if pred > 0.5: \n",
    "        preds.append(1)\n",
    "    else: \n",
    "        preds.append(0)\n",
    "metrics = print_metrics_binary(y_test, preds)"
   ]
  },
  {
   "cell_type": "code",
   "execution_count": 221,
   "metadata": {},
   "outputs": [
    {
     "data": {
      "application/vnd.jupyter.widget-view+json": {
       "model_id": "af4dd5cd22754b7b80906373f5dc3559",
       "version_major": 2,
       "version_minor": 0
      },
      "text/html": [
       "<p>Failed to display Jupyter Widget of type <code>HBox</code>.</p>\n",
       "<p>\n",
       "  If you're reading this message in the Jupyter Notebook or JupyterLab Notebook, it may mean\n",
       "  that the widgets JavaScript is still loading. If this message persists, it\n",
       "  likely means that the widgets JavaScript library is either not installed or\n",
       "  not enabled. See the <a href=\"https://ipywidgets.readthedocs.io/en/stable/user_install.html\">Jupyter\n",
       "  Widgets Documentation</a> for setup instructions.\n",
       "</p>\n",
       "<p>\n",
       "  If you're reading this message in another frontend (for example, a static\n",
       "  rendering on GitHub or <a href=\"https://nbviewer.jupyter.org/\">NBViewer</a>),\n",
       "  it may mean that your frontend doesn't currently support widgets.\n",
       "</p>\n"
      ],
      "text/plain": [
       "HBox(children=(IntProgress(value=0, description='Epoch', max=2), HTML(value='')))"
      ]
     },
     "metadata": {},
     "output_type": "display_data"
    },
    {
     "name": "stdout",
     "output_type": "stream",
     "text": [
      "epoch      trn_loss   val_loss                               \n",
      "    0      0.34398    0.300917  \n",
      "    1      0.271364   0.300342                               \n",
      "\n"
     ]
    },
    {
     "data": {
      "text/plain": [
       "[array([0.30034])]"
      ]
     },
     "execution_count": 221,
     "metadata": {},
     "output_type": "execute_result"
    }
   ],
   "source": [
    "m.fit(lrs, 2)"
   ]
  },
  {
   "cell_type": "code",
   "execution_count": 222,
   "metadata": {},
   "outputs": [
    {
     "name": "stdout",
     "output_type": "stream",
     "text": [
      "confusion matrix:\n",
      "[[2724   93]\n",
      " [ 253  115]]\n",
      "accuracy = 0.89136577\n",
      "precision class 0 = 0.9150151\n",
      "precision class 1 = 0.55288464\n",
      "recall class 0 = 0.9669862\n",
      "recall calss 1 = 0.3125\n",
      "AUC of ROC = 0.639743077742279\n",
      "AUC of PRC = 0.47240973312401885\n",
      "min(+P, Se) = 0.3125\n"
     ]
    }
   ],
   "source": [
    "y_predicted = m.predict(is_test=True)\n",
    "preds = []\n",
    "for pred in y_predicted:\n",
    "    if pred > 0.5: \n",
    "        preds.append(1)\n",
    "    else: \n",
    "        preds.append(0)\n",
    "metrics = print_metrics_binary(y_test, preds)"
   ]
  },
  {
   "cell_type": "code",
   "execution_count": 223,
   "metadata": {},
   "outputs": [
    {
     "data": {
      "application/vnd.jupyter.widget-view+json": {
       "model_id": "eedf43939226401d9e2a873a5a9e37a0",
       "version_major": 2,
       "version_minor": 0
      },
      "text/html": [
       "<p>Failed to display Jupyter Widget of type <code>HBox</code>.</p>\n",
       "<p>\n",
       "  If you're reading this message in the Jupyter Notebook or JupyterLab Notebook, it may mean\n",
       "  that the widgets JavaScript is still loading. If this message persists, it\n",
       "  likely means that the widgets JavaScript library is either not installed or\n",
       "  not enabled. See the <a href=\"https://ipywidgets.readthedocs.io/en/stable/user_install.html\">Jupyter\n",
       "  Widgets Documentation</a> for setup instructions.\n",
       "</p>\n",
       "<p>\n",
       "  If you're reading this message in another frontend (for example, a static\n",
       "  rendering on GitHub or <a href=\"https://nbviewer.jupyter.org/\">NBViewer</a>),\n",
       "  it may mean that your frontend doesn't currently support widgets.\n",
       "</p>\n"
      ],
      "text/plain": [
       "HBox(children=(IntProgress(value=0, description='Epoch', max=2), HTML(value='')))"
      ]
     },
     "metadata": {},
     "output_type": "display_data"
    },
    {
     "name": "stdout",
     "output_type": "stream",
     "text": [
      "epoch      trn_loss   val_loss                               \n",
      "    0      0.304522   0.297753  \n",
      "    1      0.275755   0.297202                               \n",
      "\n"
     ]
    },
    {
     "data": {
      "text/plain": [
       "[array([0.2972])]"
      ]
     },
     "execution_count": 223,
     "metadata": {},
     "output_type": "execute_result"
    }
   ],
   "source": [
    "m.fit(0.001, 2, cycle_len=1)"
   ]
  },
  {
   "cell_type": "code",
   "execution_count": 224,
   "metadata": {},
   "outputs": [
    {
     "name": "stdout",
     "output_type": "stream",
     "text": [
      "confusion matrix:\n",
      "[[2739   78]\n",
      " [ 254  114]]\n",
      "accuracy = 0.8957614\n",
      "precision class 0 = 0.9151353\n",
      "precision class 1 = 0.59375\n",
      "recall class 0 = 0.97231096\n",
      "recall calss 1 = 0.3097826\n",
      "AUC of ROC = 0.6410467889058665\n",
      "AUC of PRC = 0.4916407156508088\n",
      "min(+P, Se) = 0.30978260869565216\n"
     ]
    }
   ],
   "source": [
    "y_predicted = m.predict(is_test=True)\n",
    "preds = []\n",
    "for pred in y_predicted:\n",
    "    if pred > 0.5: \n",
    "        preds.append(1)\n",
    "    else: \n",
    "        preds.append(0)\n",
    "metrics = print_metrics_binary(y_test, preds)"
   ]
  },
  {
   "cell_type": "code",
   "execution_count": 225,
   "metadata": {},
   "outputs": [
    {
     "data": {
      "application/vnd.jupyter.widget-view+json": {
       "model_id": "6e6f506ab03e45048c1d5bec8d63f1fa",
       "version_major": 2,
       "version_minor": 0
      },
      "text/html": [
       "<p>Failed to display Jupyter Widget of type <code>HBox</code>.</p>\n",
       "<p>\n",
       "  If you're reading this message in the Jupyter Notebook or JupyterLab Notebook, it may mean\n",
       "  that the widgets JavaScript is still loading. If this message persists, it\n",
       "  likely means that the widgets JavaScript library is either not installed or\n",
       "  not enabled. See the <a href=\"https://ipywidgets.readthedocs.io/en/stable/user_install.html\">Jupyter\n",
       "  Widgets Documentation</a> for setup instructions.\n",
       "</p>\n",
       "<p>\n",
       "  If you're reading this message in another frontend (for example, a static\n",
       "  rendering on GitHub or <a href=\"https://nbviewer.jupyter.org/\">NBViewer</a>),\n",
       "  it may mean that your frontend doesn't currently support widgets.\n",
       "</p>\n"
      ],
      "text/plain": [
       "HBox(children=(IntProgress(value=0, description='Epoch', max=4), HTML(value='')))"
      ]
     },
     "metadata": {},
     "output_type": "display_data"
    },
    {
     "name": "stdout",
     "output_type": "stream",
     "text": [
      "epoch      trn_loss   val_loss                               \n",
      "    0      0.254274   0.295335  \n",
      "    1      0.247248   0.295072                               \n",
      "    2      0.27791    0.295071                               \n",
      "    3      0.261464   0.294726                               \n",
      "\n"
     ]
    },
    {
     "data": {
      "text/plain": [
       "[array([0.29473])]"
      ]
     },
     "execution_count": 225,
     "metadata": {},
     "output_type": "execute_result"
    }
   ],
   "source": [
    "m.fit(lrs, 2, cycle_len=2)"
   ]
  },
  {
   "cell_type": "code",
   "execution_count": 226,
   "metadata": {},
   "outputs": [
    {
     "name": "stdout",
     "output_type": "stream",
     "text": [
      "confusion matrix:\n",
      "[[2725   92]\n",
      " [ 246  122]]\n",
      "accuracy = 0.89387757\n",
      "precision class 0 = 0.9171996\n",
      "precision class 1 = 0.57009345\n",
      "recall class 0 = 0.9673411\n",
      "recall calss 1 = 0.33152175\n",
      "AUC of ROC = 0.6494314410952138\n",
      "AUC of PRC = 0.48942612286999\n",
      "min(+P, Se) = 0.33152173913043476\n"
     ]
    }
   ],
   "source": [
    "y_predicted = m.predict(is_test=True)\n",
    "preds = []\n",
    "for pred in y_predicted:\n",
    "    if pred > 0.5: \n",
    "        preds.append(1)\n",
    "    else: \n",
    "        preds.append(0)\n",
    "metrics = print_metrics_binary(y_test, preds)"
   ]
  },
  {
   "cell_type": "code",
   "execution_count": 227,
   "metadata": {},
   "outputs": [
    {
     "data": {
      "application/vnd.jupyter.widget-view+json": {
       "model_id": "c312d274afcb4d14ac168f0dd8e26787",
       "version_major": 2,
       "version_minor": 0
      },
      "text/html": [
       "<p>Failed to display Jupyter Widget of type <code>HBox</code>.</p>\n",
       "<p>\n",
       "  If you're reading this message in the Jupyter Notebook or JupyterLab Notebook, it may mean\n",
       "  that the widgets JavaScript is still loading. If this message persists, it\n",
       "  likely means that the widgets JavaScript library is either not installed or\n",
       "  not enabled. See the <a href=\"https://ipywidgets.readthedocs.io/en/stable/user_install.html\">Jupyter\n",
       "  Widgets Documentation</a> for setup instructions.\n",
       "</p>\n",
       "<p>\n",
       "  If you're reading this message in another frontend (for example, a static\n",
       "  rendering on GitHub or <a href=\"https://nbviewer.jupyter.org/\">NBViewer</a>),\n",
       "  it may mean that your frontend doesn't currently support widgets.\n",
       "</p>\n"
      ],
      "text/plain": [
       "HBox(children=(IntProgress(value=0, description='Epoch', max=2), HTML(value='')))"
      ]
     },
     "metadata": {},
     "output_type": "display_data"
    },
    {
     "name": "stdout",
     "output_type": "stream",
     "text": [
      "epoch      trn_loss   val_loss                               \n",
      "    0      0.260121   0.30052   \n",
      "    1      0.253116   0.305957                               \n",
      "\n"
     ]
    },
    {
     "data": {
      "text/plain": [
       "[array([0.30596])]"
      ]
     },
     "execution_count": 227,
     "metadata": {},
     "output_type": "execute_result"
    }
   ],
   "source": [
    "m.fit(0.001, 2, cycle_len=1)"
   ]
  },
  {
   "cell_type": "code",
   "execution_count": 228,
   "metadata": {},
   "outputs": [
    {
     "name": "stdout",
     "output_type": "stream",
     "text": [
      "confusion matrix:\n",
      "[[2703  114]\n",
      " [ 231  137]]\n",
      "accuracy = 0.89167976\n",
      "precision class 0 = 0.92126787\n",
      "precision class 1 = 0.5458167\n",
      "recall class 0 = 0.9595314\n",
      "recall calss 1 = 0.3722826\n",
      "AUC of ROC = 0.665907012548039\n",
      "AUC of PRC = 0.4953134071454269\n",
      "min(+P, Se) = 0.37228260869565216\n"
     ]
    }
   ],
   "source": [
    "y_predicted = m.predict(is_test=True)\n",
    "preds = []\n",
    "for pred in y_predicted:\n",
    "    if pred > 0.5: \n",
    "        preds.append(1)\n",
    "    else: \n",
    "        preds.append(0)\n",
    "metrics = print_metrics_binary(y_test, preds)"
   ]
  },
  {
   "cell_type": "code",
   "execution_count": 229,
   "metadata": {},
   "outputs": [
    {
     "data": {
      "application/vnd.jupyter.widget-view+json": {
       "model_id": "a461f6e70714407db1ded53ae1638744",
       "version_major": 2,
       "version_minor": 0
      },
      "text/html": [
       "<p>Failed to display Jupyter Widget of type <code>HBox</code>.</p>\n",
       "<p>\n",
       "  If you're reading this message in the Jupyter Notebook or JupyterLab Notebook, it may mean\n",
       "  that the widgets JavaScript is still loading. If this message persists, it\n",
       "  likely means that the widgets JavaScript library is either not installed or\n",
       "  not enabled. See the <a href=\"https://ipywidgets.readthedocs.io/en/stable/user_install.html\">Jupyter\n",
       "  Widgets Documentation</a> for setup instructions.\n",
       "</p>\n",
       "<p>\n",
       "  If you're reading this message in another frontend (for example, a static\n",
       "  rendering on GitHub or <a href=\"https://nbviewer.jupyter.org/\">NBViewer</a>),\n",
       "  it may mean that your frontend doesn't currently support widgets.\n",
       "</p>\n"
      ],
      "text/plain": [
       "HBox(children=(IntProgress(value=0, description='Epoch', max=2), HTML(value='')))"
      ]
     },
     "metadata": {},
     "output_type": "display_data"
    },
    {
     "name": "stdout",
     "output_type": "stream",
     "text": [
      "epoch      trn_loss   val_loss                               \n",
      "    0      0.246901   0.303208  \n",
      "    1      0.216855   0.305055                               \n",
      "\n"
     ]
    },
    {
     "data": {
      "text/plain": [
       "[array([0.30506])]"
      ]
     },
     "execution_count": 229,
     "metadata": {},
     "output_type": "execute_result"
    }
   ],
   "source": [
    "m.fit(0.001, 2, cycle_len=1)"
   ]
  },
  {
   "cell_type": "code",
   "execution_count": null,
   "metadata": {},
   "outputs": [
    {
     "name": "stdout",
     "output_type": "stream",
     "text": [
      "confusion matrix:\n",
      "[[2711  106]\n",
      " [ 239  129]]\n",
      "accuracy = 0.89167976\n",
      "precision class 0 = 0.91898304\n",
      "precision class 1 = 0.5489362\n",
      "recall class 0 = 0.9623713\n",
      "recall calss 1 = 0.35054347\n",
      "AUC of ROC = 0.6564573976323873\n",
      "AUC of PRC = 0.4872594474707267\n",
      "min(+P, Se) = 0.35054347826086957\n"
     ]
    }
   ],
   "source": [
    "y_predicted = m.predict(is_test=True)\n",
    "preds = []\n",
    "for pred in y_predicted:\n",
    "    if pred > 0.5: \n",
    "        preds.append(1)\n",
    "    else: \n",
    "        preds.append(0)\n",
    "metrics = print_metrics_binary(y_test, preds)"
   ]
  },
  {
   "cell_type": "code",
   "execution_count": null,
   "metadata": {},
   "outputs": [
    {
     "data": {
      "application/vnd.jupyter.widget-view+json": {
       "model_id": "bbb83133c7ae4da187e771fbfb2da280",
       "version_major": 2,
       "version_minor": 0
      },
      "text/html": [
       "<p>Failed to display Jupyter Widget of type <code>HBox</code>.</p>\n",
       "<p>\n",
       "  If you're reading this message in the Jupyter Notebook or JupyterLab Notebook, it may mean\n",
       "  that the widgets JavaScript is still loading. If this message persists, it\n",
       "  likely means that the widgets JavaScript library is either not installed or\n",
       "  not enabled. See the <a href=\"https://ipywidgets.readthedocs.io/en/stable/user_install.html\">Jupyter\n",
       "  Widgets Documentation</a> for setup instructions.\n",
       "</p>\n",
       "<p>\n",
       "  If you're reading this message in another frontend (for example, a static\n",
       "  rendering on GitHub or <a href=\"https://nbviewer.jupyter.org/\">NBViewer</a>),\n",
       "  it may mean that your frontend doesn't currently support widgets.\n",
       "</p>\n"
      ],
      "text/plain": [
       "HBox(children=(IntProgress(value=0, description='Epoch', max=2), HTML(value='')))"
      ]
     },
     "metadata": {},
     "output_type": "display_data"
    },
    {
     "name": "stdout",
     "output_type": "stream",
     "text": [
      "epoch      trn_loss   val_loss                               \n",
      "    0      0.172799   0.317415  \n",
      " 77%|███████▋  | 350/454 [00:30<00:09, 11.37it/s, loss=0.179]"
     ]
    }
   ],
   "source": [
    "m.fit(0.0001, 2, cycle_len=1)"
   ]
  },
  {
   "cell_type": "code",
   "execution_count": null,
   "metadata": {},
   "outputs": [],
   "source": [
    "y_predicted = m.predict(is_test=True)\n",
    "preds = []\n",
    "for pred in y_predicted:\n",
    "    if pred > 0.5: \n",
    "        preds.append(1)\n",
    "    else: \n",
    "        preds.append(0)\n",
    "metrics = print_metrics_binary(y_test, preds)"
   ]
  },
  {
   "cell_type": "code",
   "execution_count": null,
   "metadata": {},
   "outputs": [],
   "source": []
  },
  {
   "cell_type": "code",
   "execution_count": null,
   "metadata": {},
   "outputs": [],
   "source": []
  },
  {
   "cell_type": "code",
   "execution_count": null,
   "metadata": {},
   "outputs": [],
   "source": []
  },
  {
   "cell_type": "code",
   "execution_count": null,
   "metadata": {},
   "outputs": [],
   "source": []
  }
 ],
 "metadata": {
  "kernelspec": {
   "display_name": "Python 3",
   "language": "python",
   "name": "python3"
  },
  "language_info": {
   "codemirror_mode": {
    "name": "ipython",
    "version": 3
   },
   "file_extension": ".py",
   "mimetype": "text/x-python",
   "name": "python",
   "nbconvert_exporter": "python",
   "pygments_lexer": "ipython3",
   "version": "3.6.4"
  }
 },
 "nbformat": 4,
 "nbformat_minor": 2
}
