{
 "cells": [
  {
   "cell_type": "code",
   "execution_count": 1,
   "metadata": {},
   "outputs": [
    {
     "name": "stderr",
     "output_type": "stream",
     "text": [
      "/home/andreas/anaconda3/lib/python3.6/site-packages/numexpr/cpuinfo.py:42: UserWarning: [Errno 2] No such file or directory: 'uname': 'uname'\n",
      "  warnings.warn(str(e), UserWarning, stacklevel=stacklevel)\n"
     ]
    }
   ],
   "source": [
    "import pandas as pd\n",
    "import numpy as np\n",
    "from fastai.structured import *\n",
    "from fastai.column_data import *\n",
    "from sklearn import metrics\n",
    "from sklearn.metrics import confusion_matrix, roc_auc_score\n",
    "from metrics import print_metrics_binary\n",
    "import matplotlib.pyplot as plt\n",
    "#from tqdm import TqdmSynchronisationWarning\n",
    "np.set_printoptions(threshold=50, edgeitems=20)"
   ]
  },
  {
   "cell_type": "code",
   "execution_count": 2,
   "metadata": {},
   "outputs": [],
   "source": [
    "#print(torch.cuda.current_device())\n",
    "#torch.cuda.set_device(1)"
   ]
  },
  {
   "cell_type": "code",
   "execution_count": 3,
   "metadata": {},
   "outputs": [],
   "source": [
    "#warnings.filterwarnings(\"ignore\", category=TqdmSynchronisationWarning)"
   ]
  },
  {
   "cell_type": "code",
   "execution_count": 4,
   "metadata": {},
   "outputs": [],
   "source": [
    "train = pd.read_csv('./datasets/ihm/train_data_90.csv')\n",
    "test = pd.read_csv('./datasets/ihm/test_data_90.csv')\n",
    "val = pd.read_csv('./datasets/ihm/val_data_90.csv')\n",
    "train_data = train.drop('Unnamed: 0', axis=1)\n",
    "test_data = test.drop('Unnamed: 0', axis=1)\n",
    "val_data = val.drop('Unnamed: 0', axis=1)"
   ]
  },
  {
   "cell_type": "code",
   "execution_count": null,
   "metadata": {},
   "outputs": [
    {
     "name": "stdout",
     "output_type": "stream",
     "text": [
      "1/3583\n",
      "2/3583\n",
      "3/3583\n",
      "4/3583\n",
      "5/3583\n",
      "6/3583\n",
      "7/3583\n",
      "8/3583\n",
      "9/3583\n",
      "10/3583\n",
      "11/3583\n",
      "12/3583\n",
      "13/3583\n",
      "14/3583\n",
      "15/3583\n",
      "16/3583\n",
      "17/3583\n",
      "18/3583\n",
      "19/3583\n",
      "20/3583\n",
      "21/3583\n",
      "22/3583\n",
      "23/3583\n",
      "24/3583\n",
      "25/3583\n",
      "26/3583\n",
      "27/3583\n",
      "28/3583\n",
      "29/3583\n",
      "30/3583\n",
      "31/3583\n",
      "32/3583\n",
      "33/3583\n",
      "34/3583\n",
      "35/3583\n",
      "36/3583\n",
      "37/3583\n",
      "38/3583\n",
      "39/3583\n",
      "40/3583\n",
      "41/3583\n",
      "42/3583\n",
      "43/3583\n",
      "44/3583\n",
      "45/3583\n",
      "46/3583\n",
      "47/3583\n",
      "48/3583\n",
      "49/3583\n",
      "50/3583\n",
      "51/3583\n",
      "52/3583\n",
      "53/3583\n",
      "54/3583\n",
      "55/3583\n",
      "56/3583\n",
      "57/3583\n",
      "58/3583\n",
      "59/3583\n",
      "60/3583\n",
      "61/3583\n",
      "62/3583\n",
      "63/3583\n",
      "64/3583\n",
      "65/3583\n",
      "66/3583\n",
      "67/3583\n",
      "68/3583\n",
      "69/3583\n",
      "70/3583\n",
      "71/3583\n",
      "72/3583\n",
      "73/3583\n",
      "74/3583\n",
      "75/3583\n",
      "76/3583\n",
      "77/3583\n",
      "78/3583\n",
      "79/3583\n",
      "80/3583\n",
      "81/3583\n",
      "82/3583\n",
      "83/3583\n",
      "84/3583\n",
      "85/3583\n",
      "86/3583\n",
      "87/3583\n",
      "88/3583\n",
      "89/3583\n",
      "90/3583\n",
      "91/3583\n",
      "92/3583\n",
      "93/3583\n",
      "94/3583\n",
      "95/3583\n",
      "96/3583\n",
      "97/3583\n",
      "98/3583\n",
      "99/3583\n",
      "100/3583\n",
      "101/3583\n",
      "102/3583\n",
      "103/3583\n",
      "104/3583\n",
      "105/3583\n",
      "106/3583\n",
      "107/3583\n",
      "108/3583\n",
      "109/3583\n",
      "110/3583\n",
      "111/3583\n",
      "112/3583\n",
      "113/3583\n",
      "114/3583\n",
      "115/3583\n",
      "116/3583\n",
      "117/3583\n",
      "118/3583\n",
      "119/3583\n",
      "120/3583\n",
      "121/3583\n",
      "122/3583\n",
      "123/3583\n",
      "124/3583\n",
      "125/3583\n",
      "126/3583\n",
      "127/3583\n",
      "128/3583\n",
      "129/3583\n",
      "130/3583\n",
      "131/3583\n",
      "132/3583\n",
      "133/3583\n",
      "134/3583\n",
      "135/3583\n",
      "136/3583\n",
      "137/3583\n",
      "138/3583\n",
      "139/3583\n",
      "140/3583\n",
      "141/3583\n",
      "142/3583\n",
      "143/3583\n",
      "144/3583\n",
      "145/3583\n",
      "146/3583\n",
      "147/3583\n",
      "148/3583\n",
      "149/3583\n",
      "150/3583\n",
      "151/3583\n",
      "152/3583\n",
      "153/3583\n",
      "154/3583\n",
      "155/3583\n",
      "156/3583\n",
      "157/3583\n",
      "158/3583\n",
      "159/3583\n",
      "160/3583\n",
      "161/3583\n",
      "162/3583\n",
      "163/3583\n",
      "164/3583\n",
      "165/3583\n",
      "166/3583\n",
      "167/3583\n",
      "168/3583\n",
      "169/3583\n",
      "170/3583\n",
      "171/3583\n",
      "172/3583\n",
      "173/3583\n",
      "174/3583\n",
      "175/3583\n",
      "176/3583\n",
      "177/3583\n",
      "178/3583\n",
      "179/3583\n",
      "180/3583\n",
      "181/3583\n",
      "182/3583\n",
      "183/3583\n",
      "184/3583\n",
      "185/3583\n",
      "186/3583\n",
      "187/3583\n",
      "188/3583\n",
      "189/3583\n",
      "190/3583\n",
      "191/3583\n",
      "192/3583\n",
      "193/3583\n",
      "194/3583\n",
      "195/3583\n",
      "196/3583\n",
      "197/3583\n",
      "198/3583\n",
      "199/3583\n",
      "200/3583\n",
      "201/3583\n"
     ]
    }
   ],
   "source": [
    "train_data = train_data.reset_index().drop('index', axis=1)\n",
    "val_data = val_data.reset_index().drop('index', axis=1)\n",
    "test_data = test_data.reset_index().drop('index', axis=1)\n",
    "\n",
    "\n",
    "def balance_dataset(df):\n",
    "    num_died = len(train_data[train_data['Mortality'] == 1])\n",
    "    num_survived = len(train_data[train_data['Mortality'] == 0])\n",
    "    mortal_df = df[df['Mortality'] == 1].copy()\n",
    "    counter = 0\n",
    "    increased = 0\n",
    "    new_data = df.copy()\n",
    "    while increased < num_died*4:\n",
    "        if mortal_df.iloc[counter]['Mortality'] == 1:\n",
    "            new_patient = df.iloc[counter].copy()\n",
    "            new_data.append(new_patient)\n",
    "            increased = increased + 1\n",
    "        counter = counter +1\n",
    "        if counter == len(mortal_df): \n",
    "            counter = 0\n",
    "        print(str(increased) +\"/\" + str(num_died))\n",
    "    print(num_died+increased, num_survived)\n",
    "    return df\n",
    "\n",
    "\n",
    "train_data = balance_dataset(train_data)"
   ]
  },
  {
   "cell_type": "code",
   "execution_count": 6,
   "metadata": {},
   "outputs": [],
   "source": [
    "train_data = train_data.reset_index().drop('index', axis=1)\n",
    "val_data = val_data.reset_index().drop('index', axis=1)\n",
    "test_data = test_data.reset_index().drop('index', axis=1)"
   ]
  },
  {
   "cell_type": "code",
   "execution_count": 7,
   "metadata": {},
   "outputs": [
    {
     "name": "stdout",
     "output_type": "stream",
     "text": [
      "3150\n",
      "19253\n"
     ]
    }
   ],
   "source": [
    "print(len(train_data[train_data['Mortality'] == 1]))\n",
    "print(len(train_data[train_data['Mortality'] == 0]))"
   ]
  },
  {
   "cell_type": "code",
   "execution_count": 8,
   "metadata": {},
   "outputs": [
    {
     "name": "stdout",
     "output_type": "stream",
     "text": [
      "22403\n",
      "25591\n"
     ]
    }
   ],
   "source": [
    "train_size = len(train_data)\n",
    "train_data = train_data.append(val_data)\n",
    "\n",
    "\n",
    "print(train_size)\n",
    "print(len(train_data))\n",
    "val_idx = list(range(train_size, len(train_data)))"
   ]
  },
  {
   "cell_type": "code",
   "execution_count": 9,
   "metadata": {},
   "outputs": [
    {
     "name": "stdout",
     "output_type": "stream",
     "text": [
      "[('Capillary refill rate0', 3), ('Capillary refill rate1', 3), ('Capillary refill rate2', 3), ('Capillary refill rate3', 3), ('Capillary refill rate4', 3), ('Capillary refill rate5', 3), ('Capillary refill rate6', 3), ('Capillary refill rate7', 3), ('Capillary refill rate8', 3), ('Capillary refill rate9', 3), ('Capillary refill rate10', 3), ('Capillary refill rate11', 3), ('Capillary refill rate12', 3), ('Capillary refill rate13', 3), ('Capillary refill rate14', 3), ('Capillary refill rate15', 3), ('Capillary refill rate16', 3), ('Capillary refill rate17', 3), ('Capillary refill rate18', 3), ('Capillary refill rate19', 3), ('Capillary refill rate20', 3), ('Capillary refill rate21', 3), ('Capillary refill rate22', 3), ('Capillary refill rate23', 3), ('Capillary refill rate24', 3), ('Capillary refill rate25', 3), ('Capillary refill rate26', 3), ('Capillary refill rate27', 3), ('Capillary refill rate28', 3), ('Capillary refill rate29', 3), ('Capillary refill rate30', 3), ('Capillary refill rate31', 3), ('Capillary refill rate32', 3), ('Capillary refill rate33', 3), ('Capillary refill rate34', 3), ('Capillary refill rate35', 3), ('Capillary refill rate36', 3), ('Capillary refill rate37', 3), ('Capillary refill rate38', 3), ('Capillary refill rate39', 3), ('Capillary refill rate40', 3), ('Capillary refill rate41', 3), ('Capillary refill rate42', 3), ('Capillary refill rate43', 3), ('Capillary refill rate44', 3), ('Capillary refill rate45', 3), ('Capillary refill rate46', 3), ('Capillary refill rate47', 3), ('Capillary refill rate48', 3), ('Capillary refill rate49', 3), ('Capillary refill rate50', 3), ('Capillary refill rate51', 3), ('Capillary refill rate52', 3), ('Capillary refill rate53', 3), ('Capillary refill rate54', 3), ('Capillary refill rate55', 3), ('Capillary refill rate56', 3), ('Capillary refill rate57', 3), ('Capillary refill rate58', 3), ('Capillary refill rate59', 3), ('Capillary refill rate60', 3), ('Capillary refill rate61', 3), ('Capillary refill rate62', 3), ('Capillary refill rate63', 3), ('Capillary refill rate64', 3), ('Capillary refill rate65', 3), ('Capillary refill rate66', 3), ('Capillary refill rate67', 3), ('Capillary refill rate68', 3), ('Capillary refill rate69', 3), ('Capillary refill rate70', 3), ('Capillary refill rate71', 3), ('Capillary refill rate72', 3), ('Capillary refill rate73', 3), ('Capillary refill rate74', 3), ('Capillary refill rate75', 3), ('Capillary refill rate76', 3), ('Capillary refill rate77', 3), ('Capillary refill rate78', 3), ('Capillary refill rate79', 3), ('Capillary refill rate80', 3), ('Capillary refill rate81', 3), ('Capillary refill rate82', 3), ('Capillary refill rate83', 3), ('Capillary refill rate84', 3), ('Capillary refill rate85', 3), ('Capillary refill rate86', 3), ('Capillary refill rate87', 3), ('Capillary refill rate88', 3), ('Capillary refill rate89', 3), ('Glascow coma scale eye opening0', 6), ('Glascow coma scale eye opening1', 6), ('Glascow coma scale eye opening2', 6), ('Glascow coma scale eye opening3', 6), ('Glascow coma scale eye opening4', 6), ('Glascow coma scale eye opening5', 6), ('Glascow coma scale eye opening6', 6), ('Glascow coma scale eye opening7', 6), ('Glascow coma scale eye opening8', 6), ('Glascow coma scale eye opening9', 6), ('Glascow coma scale eye opening10', 6), ('Glascow coma scale eye opening11', 6), ('Glascow coma scale eye opening12', 6), ('Glascow coma scale eye opening13', 6), ('Glascow coma scale eye opening14', 6), ('Glascow coma scale eye opening15', 6), ('Glascow coma scale eye opening16', 6), ('Glascow coma scale eye opening17', 6), ('Glascow coma scale eye opening18', 6), ('Glascow coma scale eye opening19', 6), ('Glascow coma scale eye opening20', 6), ('Glascow coma scale eye opening21', 6), ('Glascow coma scale eye opening22', 6), ('Glascow coma scale eye opening23', 6), ('Glascow coma scale eye opening24', 6), ('Glascow coma scale eye opening25', 6), ('Glascow coma scale eye opening26', 6), ('Glascow coma scale eye opening27', 6), ('Glascow coma scale eye opening28', 6), ('Glascow coma scale eye opening29', 6), ('Glascow coma scale eye opening30', 6), ('Glascow coma scale eye opening31', 6), ('Glascow coma scale eye opening32', 6), ('Glascow coma scale eye opening33', 6), ('Glascow coma scale eye opening34', 6), ('Glascow coma scale eye opening35', 6), ('Glascow coma scale eye opening36', 6), ('Glascow coma scale eye opening37', 6), ('Glascow coma scale eye opening38', 6), ('Glascow coma scale eye opening39', 6), ('Glascow coma scale eye opening40', 6), ('Glascow coma scale eye opening41', 6), ('Glascow coma scale eye opening42', 6), ('Glascow coma scale eye opening43', 6), ('Glascow coma scale eye opening44', 6), ('Glascow coma scale eye opening45', 6), ('Glascow coma scale eye opening46', 6), ('Glascow coma scale eye opening47', 6), ('Glascow coma scale eye opening48', 6), ('Glascow coma scale eye opening49', 6), ('Glascow coma scale eye opening50', 6), ('Glascow coma scale eye opening51', 6), ('Glascow coma scale eye opening52', 6), ('Glascow coma scale eye opening53', 6), ('Glascow coma scale eye opening54', 6), ('Glascow coma scale eye opening55', 6), ('Glascow coma scale eye opening56', 6), ('Glascow coma scale eye opening57', 6), ('Glascow coma scale eye opening58', 6), ('Glascow coma scale eye opening59', 6), ('Glascow coma scale eye opening60', 6), ('Glascow coma scale eye opening61', 6), ('Glascow coma scale eye opening62', 6), ('Glascow coma scale eye opening63', 6), ('Glascow coma scale eye opening64', 6), ('Glascow coma scale eye opening65', 6), ('Glascow coma scale eye opening66', 6), ('Glascow coma scale eye opening67', 6), ('Glascow coma scale eye opening68', 6), ('Glascow coma scale eye opening69', 6), ('Glascow coma scale eye opening70', 6), ('Glascow coma scale eye opening71', 6), ('Glascow coma scale eye opening72', 6), ('Glascow coma scale eye opening73', 6), ('Glascow coma scale eye opening74', 6), ('Glascow coma scale eye opening75', 6), ('Glascow coma scale eye opening76', 6), ('Glascow coma scale eye opening77', 6), ('Glascow coma scale eye opening78', 6), ('Glascow coma scale eye opening79', 6), ('Glascow coma scale eye opening80', 6), ('Glascow coma scale eye opening81', 6), ('Glascow coma scale eye opening82', 6), ('Glascow coma scale eye opening83', 6), ('Glascow coma scale eye opening84', 6), ('Glascow coma scale eye opening85', 6), ('Glascow coma scale eye opening86', 6), ('Glascow coma scale eye opening87', 6), ('Glascow coma scale eye opening88', 6), ('Glascow coma scale eye opening89', 6), ('Glascow coma scale motor response0', 7), ('Glascow coma scale motor response1', 7), ('Glascow coma scale motor response2', 7), ('Glascow coma scale motor response3', 7), ('Glascow coma scale motor response4', 7), ('Glascow coma scale motor response5', 7), ('Glascow coma scale motor response6', 7), ('Glascow coma scale motor response7', 7), ('Glascow coma scale motor response8', 7), ('Glascow coma scale motor response9', 7), ('Glascow coma scale motor response10', 7), ('Glascow coma scale motor response11', 7), ('Glascow coma scale motor response12', 7), ('Glascow coma scale motor response13', 7), ('Glascow coma scale motor response14', 7), ('Glascow coma scale motor response15', 7), ('Glascow coma scale motor response16', 7), ('Glascow coma scale motor response17', 7), ('Glascow coma scale motor response18', 7), ('Glascow coma scale motor response19', 7), ('Glascow coma scale motor response20', 7), ('Glascow coma scale motor response21', 7), ('Glascow coma scale motor response22', 7), ('Glascow coma scale motor response23', 7), ('Glascow coma scale motor response24', 7), ('Glascow coma scale motor response25', 7), ('Glascow coma scale motor response26', 7), ('Glascow coma scale motor response27', 7), ('Glascow coma scale motor response28', 7), ('Glascow coma scale motor response29', 7), ('Glascow coma scale motor response30', 7), ('Glascow coma scale motor response31', 7), ('Glascow coma scale motor response32', 7), ('Glascow coma scale motor response33', 7), ('Glascow coma scale motor response34', 7), ('Glascow coma scale motor response35', 7), ('Glascow coma scale motor response36', 7), ('Glascow coma scale motor response37', 7), ('Glascow coma scale motor response38', 7), ('Glascow coma scale motor response39', 7), ('Glascow coma scale motor response40', 7), ('Glascow coma scale motor response41', 7), ('Glascow coma scale motor response42', 7), ('Glascow coma scale motor response43', 7), ('Glascow coma scale motor response44', 7), ('Glascow coma scale motor response45', 7), ('Glascow coma scale motor response46', 7), ('Glascow coma scale motor response47', 7), ('Glascow coma scale motor response48', 7), ('Glascow coma scale motor response49', 7), ('Glascow coma scale motor response50', 7), ('Glascow coma scale motor response51', 7), ('Glascow coma scale motor response52', 7), ('Glascow coma scale motor response53', 7), ('Glascow coma scale motor response54', 7), ('Glascow coma scale motor response55', 7), ('Glascow coma scale motor response56', 7), ('Glascow coma scale motor response57', 7), ('Glascow coma scale motor response58', 7), ('Glascow coma scale motor response59', 7), ('Glascow coma scale motor response60', 7), ('Glascow coma scale motor response61', 7), ('Glascow coma scale motor response62', 7), ('Glascow coma scale motor response63', 7), ('Glascow coma scale motor response64', 7), ('Glascow coma scale motor response65', 7), ('Glascow coma scale motor response66', 7), ('Glascow coma scale motor response67', 7), ('Glascow coma scale motor response68', 7), ('Glascow coma scale motor response69', 7), ('Glascow coma scale motor response70', 7), ('Glascow coma scale motor response71', 7), ('Glascow coma scale motor response72', 7), ('Glascow coma scale motor response73', 7), ('Glascow coma scale motor response74', 7), ('Glascow coma scale motor response75', 7), ('Glascow coma scale motor response76', 7), ('Glascow coma scale motor response77', 7), ('Glascow coma scale motor response78', 7), ('Glascow coma scale motor response79', 7), ('Glascow coma scale motor response80', 7), ('Glascow coma scale motor response81', 7), ('Glascow coma scale motor response82', 7), ('Glascow coma scale motor response83', 7), ('Glascow coma scale motor response84', 7), ('Glascow coma scale motor response85', 7), ('Glascow coma scale motor response86', 7), ('Glascow coma scale motor response87', 7), ('Glascow coma scale motor response88', 7), ('Glascow coma scale motor response89', 7), ('Glascow coma scale total0', 14), ('Glascow coma scale total1', 14), ('Glascow coma scale total2', 14), ('Glascow coma scale total3', 14), ('Glascow coma scale total4', 14), ('Glascow coma scale total5', 14), ('Glascow coma scale total6', 14), ('Glascow coma scale total7', 14), ('Glascow coma scale total8', 14), ('Glascow coma scale total9', 14), ('Glascow coma scale total10', 14), ('Glascow coma scale total11', 14), ('Glascow coma scale total12', 14), ('Glascow coma scale total13', 14), ('Glascow coma scale total14', 14), ('Glascow coma scale total15', 14), ('Glascow coma scale total16', 14), ('Glascow coma scale total17', 14), ('Glascow coma scale total18', 14), ('Glascow coma scale total19', 14), ('Glascow coma scale total20', 14), ('Glascow coma scale total21', 14), ('Glascow coma scale total22', 14), ('Glascow coma scale total23', 14), ('Glascow coma scale total24', 14), ('Glascow coma scale total25', 14), ('Glascow coma scale total26', 14), ('Glascow coma scale total27', 14), ('Glascow coma scale total28', 14), ('Glascow coma scale total29', 14), ('Glascow coma scale total30', 14), ('Glascow coma scale total31', 14), ('Glascow coma scale total32', 14), ('Glascow coma scale total33', 14), ('Glascow coma scale total34', 14), ('Glascow coma scale total35', 14), ('Glascow coma scale total36', 14), ('Glascow coma scale total37', 14), ('Glascow coma scale total38', 14), ('Glascow coma scale total39', 14), ('Glascow coma scale total40', 14), ('Glascow coma scale total41', 14), ('Glascow coma scale total42', 14), ('Glascow coma scale total43', 14), ('Glascow coma scale total44', 14), ('Glascow coma scale total45', 14), ('Glascow coma scale total46', 14), ('Glascow coma scale total47', 14), ('Glascow coma scale total48', 14), ('Glascow coma scale total49', 14), ('Glascow coma scale total50', 14), ('Glascow coma scale total51', 14), ('Glascow coma scale total52', 14), ('Glascow coma scale total53', 14), ('Glascow coma scale total54', 14), ('Glascow coma scale total55', 14), ('Glascow coma scale total56', 14), ('Glascow coma scale total57', 14), ('Glascow coma scale total58', 14), ('Glascow coma scale total59', 14), ('Glascow coma scale total60', 14), ('Glascow coma scale total61', 14), ('Glascow coma scale total62', 14), ('Glascow coma scale total63', 14), ('Glascow coma scale total64', 14), ('Glascow coma scale total65', 14), ('Glascow coma scale total66', 14), ('Glascow coma scale total67', 14), ('Glascow coma scale total68', 14), ('Glascow coma scale total69', 14), ('Glascow coma scale total70', 14), ('Glascow coma scale total71', 14), ('Glascow coma scale total72', 14), ('Glascow coma scale total73', 14), ('Glascow coma scale total74', 14), ('Glascow coma scale total75', 14), ('Glascow coma scale total76', 14), ('Glascow coma scale total77', 14), ('Glascow coma scale total78', 14), ('Glascow coma scale total79', 14), ('Glascow coma scale total80', 14), ('Glascow coma scale total81', 14), ('Glascow coma scale total82', 14), ('Glascow coma scale total83', 14), ('Glascow coma scale total84', 14), ('Glascow coma scale total85', 14), ('Glascow coma scale total86', 14), ('Glascow coma scale total87', 14), ('Glascow coma scale total88', 14), ('Glascow coma scale total89', 14), ('Glascow coma scale verbal response0', 6), ('Glascow coma scale verbal response1', 6), ('Glascow coma scale verbal response2', 6), ('Glascow coma scale verbal response3', 6), ('Glascow coma scale verbal response4', 6), ('Glascow coma scale verbal response5', 6), ('Glascow coma scale verbal response6', 6), ('Glascow coma scale verbal response7', 6), ('Glascow coma scale verbal response8', 6), ('Glascow coma scale verbal response9', 6), ('Glascow coma scale verbal response10', 6), ('Glascow coma scale verbal response11', 6), ('Glascow coma scale verbal response12', 6), ('Glascow coma scale verbal response13', 6), ('Glascow coma scale verbal response14', 6), ('Glascow coma scale verbal response15', 6), ('Glascow coma scale verbal response16', 6), ('Glascow coma scale verbal response17', 6), ('Glascow coma scale verbal response18', 6), ('Glascow coma scale verbal response19', 6), ('Glascow coma scale verbal response20', 6), ('Glascow coma scale verbal response21', 6), ('Glascow coma scale verbal response22', 6), ('Glascow coma scale verbal response23', 6), ('Glascow coma scale verbal response24', 6), ('Glascow coma scale verbal response25', 6), ('Glascow coma scale verbal response26', 6), ('Glascow coma scale verbal response27', 6), ('Glascow coma scale verbal response28', 6), ('Glascow coma scale verbal response29', 6), ('Glascow coma scale verbal response30', 6), ('Glascow coma scale verbal response31', 6), ('Glascow coma scale verbal response32', 6), ('Glascow coma scale verbal response33', 6), ('Glascow coma scale verbal response34', 6), ('Glascow coma scale verbal response35', 6), ('Glascow coma scale verbal response36', 6), ('Glascow coma scale verbal response37', 6), ('Glascow coma scale verbal response38', 6), ('Glascow coma scale verbal response39', 6), ('Glascow coma scale verbal response40', 6), ('Glascow coma scale verbal response41', 6), ('Glascow coma scale verbal response42', 6), ('Glascow coma scale verbal response43', 6), ('Glascow coma scale verbal response44', 6), ('Glascow coma scale verbal response45', 6), ('Glascow coma scale verbal response46', 6), ('Glascow coma scale verbal response47', 6), ('Glascow coma scale verbal response48', 6), ('Glascow coma scale verbal response49', 6), ('Glascow coma scale verbal response50', 6), ('Glascow coma scale verbal response51', 6), ('Glascow coma scale verbal response52', 6), ('Glascow coma scale verbal response53', 6), ('Glascow coma scale verbal response54', 6), ('Glascow coma scale verbal response55', 6), ('Glascow coma scale verbal response56', 6), ('Glascow coma scale verbal response57', 6), ('Glascow coma scale verbal response58', 6), ('Glascow coma scale verbal response59', 6), ('Glascow coma scale verbal response60', 6), ('Glascow coma scale verbal response61', 6), ('Glascow coma scale verbal response62', 6), ('Glascow coma scale verbal response63', 6), ('Glascow coma scale verbal response64', 6), ('Glascow coma scale verbal response65', 6), ('Glascow coma scale verbal response66', 6), ('Glascow coma scale verbal response67', 6), ('Glascow coma scale verbal response68', 6), ('Glascow coma scale verbal response69', 6), ('Glascow coma scale verbal response70', 6), ('Glascow coma scale verbal response71', 6), ('Glascow coma scale verbal response72', 6), ('Glascow coma scale verbal response73', 6), ('Glascow coma scale verbal response74', 6), ('Glascow coma scale verbal response75', 6), ('Glascow coma scale verbal response76', 6), ('Glascow coma scale verbal response77', 6), ('Glascow coma scale verbal response78', 6), ('Glascow coma scale verbal response79', 6), ('Glascow coma scale verbal response80', 6), ('Glascow coma scale verbal response81', 6), ('Glascow coma scale verbal response82', 6), ('Glascow coma scale verbal response83', 6), ('Glascow coma scale verbal response84', 6), ('Glascow coma scale verbal response85', 6), ('Glascow coma scale verbal response86', 6), ('Glascow coma scale verbal response87', 6), ('Glascow coma scale verbal response88', 6), ('Glascow coma scale verbal response89', 6), ('Length', 197)]\n"
     ]
    }
   ],
   "source": [
    "cat_vars = ['Capillary refill rate', 'Glascow coma scale eye opening' ,'Glascow coma scale motor response','Glascow coma scale total', 'Glascow coma scale verbal response']\n",
    "\n",
    "all_cat_vars = []\n",
    "counter = 0\n",
    "for cat in cat_vars:\n",
    "    for i in range(0,90):\n",
    "        all_cat_vars.append(cat+str(i))\n",
    "\n",
    "all_cat_vars.append('Length')\n",
    "for v in all_cat_vars: train_data[v] = train_data[v].astype('category').cat.as_ordered()\n",
    "for v in all_cat_vars: test_data[v] = test_data[v].astype('category').cat.as_ordered()\n",
    "\n",
    "cat_sz = [(c, len(train_data[c].cat.categories)+1) for c in all_cat_vars]\n",
    "\n",
    "print(cat_sz)\n",
    "\n",
    "emb_szs = [(c, min(50, (c+1)//2)) for _,c in cat_sz]"
   ]
  },
  {
   "cell_type": "code",
   "execution_count": 10,
   "metadata": {},
   "outputs": [
    {
     "data": {
      "text/html": [
       "<div>\n",
       "<style scoped>\n",
       "    .dataframe tbody tr th:only-of-type {\n",
       "        vertical-align: middle;\n",
       "    }\n",
       "\n",
       "    .dataframe tbody tr th {\n",
       "        vertical-align: top;\n",
       "    }\n",
       "\n",
       "    .dataframe thead th {\n",
       "        text-align: right;\n",
       "    }\n",
       "</style>\n",
       "<table border=\"1\" class=\"dataframe\">\n",
       "  <thead>\n",
       "    <tr style=\"text-align: right;\">\n",
       "      <th></th>\n",
       "      <th>Hours0</th>\n",
       "      <th>Capillary refill rate0</th>\n",
       "      <th>Diastolic blood pressure0</th>\n",
       "      <th>Fraction inspired oxygen0</th>\n",
       "      <th>Glascow coma scale eye opening0</th>\n",
       "      <th>Glascow coma scale motor response0</th>\n",
       "      <th>Glascow coma scale total0</th>\n",
       "      <th>Glascow coma scale verbal response0</th>\n",
       "      <th>Glucose0</th>\n",
       "      <th>Heart Rate0</th>\n",
       "      <th>...</th>\n",
       "      <th>Height89</th>\n",
       "      <th>Mean blood pressure89</th>\n",
       "      <th>Oxygen saturation89</th>\n",
       "      <th>Respiratory rate89</th>\n",
       "      <th>Systolic blood pressure89</th>\n",
       "      <th>Temperature89</th>\n",
       "      <th>Weight89</th>\n",
       "      <th>pH89</th>\n",
       "      <th>Mortality</th>\n",
       "      <th>Length</th>\n",
       "    </tr>\n",
       "  </thead>\n",
       "  <tbody>\n",
       "    <tr>\n",
       "      <th>0</th>\n",
       "      <td>0.433333</td>\n",
       "      <td>0.0</td>\n",
       "      <td>49.0</td>\n",
       "      <td>0.21</td>\n",
       "      <td>Spontaneously</td>\n",
       "      <td>Obeys Commands</td>\n",
       "      <td>15.0</td>\n",
       "      <td>Oriented</td>\n",
       "      <td>128.0</td>\n",
       "      <td>81.0</td>\n",
       "      <td>...</td>\n",
       "      <td>170.0</td>\n",
       "      <td>64.333298</td>\n",
       "      <td>98.0</td>\n",
       "      <td>16.0</td>\n",
       "      <td>99.0</td>\n",
       "      <td>36.333334</td>\n",
       "      <td>81.000000</td>\n",
       "      <td>7.47</td>\n",
       "      <td>1</td>\n",
       "      <td>49</td>\n",
       "    </tr>\n",
       "    <tr>\n",
       "      <th>1</th>\n",
       "      <td>0.078333</td>\n",
       "      <td>0.0</td>\n",
       "      <td>38.0</td>\n",
       "      <td>0.21</td>\n",
       "      <td>Spontaneously</td>\n",
       "      <td>Obeys Commands</td>\n",
       "      <td>15.0</td>\n",
       "      <td>Oriented</td>\n",
       "      <td>128.0</td>\n",
       "      <td>65.0</td>\n",
       "      <td>...</td>\n",
       "      <td>170.0</td>\n",
       "      <td>82.000000</td>\n",
       "      <td>98.0</td>\n",
       "      <td>10.0</td>\n",
       "      <td>169.0</td>\n",
       "      <td>37.055599</td>\n",
       "      <td>64.900002</td>\n",
       "      <td>5.00</td>\n",
       "      <td>0</td>\n",
       "      <td>69</td>\n",
       "    </tr>\n",
       "    <tr>\n",
       "      <th>2</th>\n",
       "      <td>0.700000</td>\n",
       "      <td>0.0</td>\n",
       "      <td>43.0</td>\n",
       "      <td>0.21</td>\n",
       "      <td>Spontaneously</td>\n",
       "      <td>Obeys Commands</td>\n",
       "      <td>15.0</td>\n",
       "      <td>Oriented</td>\n",
       "      <td>128.0</td>\n",
       "      <td>70.0</td>\n",
       "      <td>...</td>\n",
       "      <td>170.0</td>\n",
       "      <td>54.666698</td>\n",
       "      <td>97.0</td>\n",
       "      <td>25.0</td>\n",
       "      <td>100.0</td>\n",
       "      <td>36.333334</td>\n",
       "      <td>81.000000</td>\n",
       "      <td>7.40</td>\n",
       "      <td>0</td>\n",
       "      <td>48</td>\n",
       "    </tr>\n",
       "    <tr>\n",
       "      <th>3</th>\n",
       "      <td>0.316944</td>\n",
       "      <td>0.0</td>\n",
       "      <td>64.0</td>\n",
       "      <td>0.21</td>\n",
       "      <td>Spontaneously</td>\n",
       "      <td>Obeys Commands</td>\n",
       "      <td>15.0</td>\n",
       "      <td>Oriented</td>\n",
       "      <td>128.0</td>\n",
       "      <td>67.0</td>\n",
       "      <td>...</td>\n",
       "      <td>170.0</td>\n",
       "      <td>67.000000</td>\n",
       "      <td>94.0</td>\n",
       "      <td>17.0</td>\n",
       "      <td>109.0</td>\n",
       "      <td>37.700001</td>\n",
       "      <td>90.199997</td>\n",
       "      <td>7.37</td>\n",
       "      <td>0</td>\n",
       "      <td>86</td>\n",
       "    </tr>\n",
       "    <tr>\n",
       "      <th>4</th>\n",
       "      <td>2.089167</td>\n",
       "      <td>0.0</td>\n",
       "      <td>35.0</td>\n",
       "      <td>0.21</td>\n",
       "      <td>To Speech</td>\n",
       "      <td>Localizes Pain</td>\n",
       "      <td>10.0</td>\n",
       "      <td>Incomprehensible sounds</td>\n",
       "      <td>128.0</td>\n",
       "      <td>96.0</td>\n",
       "      <td>...</td>\n",
       "      <td>170.0</td>\n",
       "      <td>69.000000</td>\n",
       "      <td>99.0</td>\n",
       "      <td>13.0</td>\n",
       "      <td>105.0</td>\n",
       "      <td>35.222223</td>\n",
       "      <td>83.000000</td>\n",
       "      <td>7.40</td>\n",
       "      <td>0</td>\n",
       "      <td>56</td>\n",
       "    </tr>\n",
       "  </tbody>\n",
       "</table>\n",
       "<p>5 rows × 1622 columns</p>\n",
       "</div>"
      ],
      "text/plain": [
       "     Hours0 Capillary refill rate0  Diastolic blood pressure0  \\\n",
       "0  0.433333                    0.0                       49.0   \n",
       "1  0.078333                    0.0                       38.0   \n",
       "2  0.700000                    0.0                       43.0   \n",
       "3  0.316944                    0.0                       64.0   \n",
       "4  2.089167                    0.0                       35.0   \n",
       "\n",
       "   Fraction inspired oxygen0 Glascow coma scale eye opening0  \\\n",
       "0                       0.21                   Spontaneously   \n",
       "1                       0.21                   Spontaneously   \n",
       "2                       0.21                   Spontaneously   \n",
       "3                       0.21                   Spontaneously   \n",
       "4                       0.21                       To Speech   \n",
       "\n",
       "  Glascow coma scale motor response0 Glascow coma scale total0  \\\n",
       "0                     Obeys Commands                      15.0   \n",
       "1                     Obeys Commands                      15.0   \n",
       "2                     Obeys Commands                      15.0   \n",
       "3                     Obeys Commands                      15.0   \n",
       "4                     Localizes Pain                      10.0   \n",
       "\n",
       "  Glascow coma scale verbal response0  Glucose0  Heart Rate0  ...    Height89  \\\n",
       "0                            Oriented     128.0         81.0  ...       170.0   \n",
       "1                            Oriented     128.0         65.0  ...       170.0   \n",
       "2                            Oriented     128.0         70.0  ...       170.0   \n",
       "3                            Oriented     128.0         67.0  ...       170.0   \n",
       "4             Incomprehensible sounds     128.0         96.0  ...       170.0   \n",
       "\n",
       "   Mean blood pressure89  Oxygen saturation89  Respiratory rate89  \\\n",
       "0              64.333298                 98.0                16.0   \n",
       "1              82.000000                 98.0                10.0   \n",
       "2              54.666698                 97.0                25.0   \n",
       "3              67.000000                 94.0                17.0   \n",
       "4              69.000000                 99.0                13.0   \n",
       "\n",
       "   Systolic blood pressure89  Temperature89   Weight89  pH89  Mortality Length  \n",
       "0                       99.0      36.333334  81.000000  7.47          1     49  \n",
       "1                      169.0      37.055599  64.900002  5.00          0     69  \n",
       "2                      100.0      36.333334  81.000000  7.40          0     48  \n",
       "3                      109.0      37.700001  90.199997  7.37          0     86  \n",
       "4                      105.0      35.222223  83.000000  7.40          0     56  \n",
       "\n",
       "[5 rows x 1622 columns]"
      ]
     },
     "execution_count": 10,
     "metadata": {},
     "output_type": "execute_result"
    }
   ],
   "source": [
    "test_data.head()"
   ]
  },
  {
   "cell_type": "code",
   "execution_count": 11,
   "metadata": {},
   "outputs": [
    {
     "name": "stdout",
     "output_type": "stream",
     "text": [
      "3583\n",
      "22008\n"
     ]
    }
   ],
   "source": [
    "print(len(train_data[train_data['Mortality'] == 1]))\n",
    "print(len(train_data[train_data['Mortality'] == 0]))"
   ]
  },
  {
   "cell_type": "code",
   "execution_count": 12,
   "metadata": {},
   "outputs": [
    {
     "name": "stdout",
     "output_type": "stream",
     "text": [
      "1622\n",
      "1622\n"
     ]
    }
   ],
   "source": [
    "print(len(train_data.columns))\n",
    "print(len(test_data.columns))"
   ]
  },
  {
   "cell_type": "code",
   "execution_count": 13,
   "metadata": {},
   "outputs": [],
   "source": [
    "df, y, nas, mapper = proc_df(train_data, 'Mortality', do_scale=True)\n",
    "df_test, y_test, nas_test, mapper_test = proc_df(test_data, 'Mortality', do_scale=True, mapper=mapper, na_dict=nas) \n",
    "\n",
    "md = ColumnarModelData.from_data_frame('./datasets/ihm/', val_idx, df, y.astype(np.float32), cat_flds=all_cat_vars, bs=32,\n",
    "                                       test_df=df_test)"
   ]
  },
  {
   "cell_type": "code",
   "execution_count": 14,
   "metadata": {},
   "outputs": [],
   "source": [
    "m = md.get_learner(emb_szs, len(df.columns)-len(all_cat_vars),\n",
    "                   0.4, 1, [2000,1000,500], [0.5,0.4, 0.3], y_range=[0,1], crit = torch.nn.functional.binary_cross_entropy)"
   ]
  },
  {
   "cell_type": "code",
   "execution_count": 15,
   "metadata": {},
   "outputs": [
    {
     "data": {
      "application/vnd.jupyter.widget-view+json": {
       "model_id": "a941867423da43f9a28362fd4beca334",
       "version_major": 2,
       "version_minor": 0
      },
      "text/html": [
       "<p>Failed to display Jupyter Widget of type <code>HBox</code>.</p>\n",
       "<p>\n",
       "  If you're reading this message in the Jupyter Notebook or JupyterLab Notebook, it may mean\n",
       "  that the widgets JavaScript is still loading. If this message persists, it\n",
       "  likely means that the widgets JavaScript library is either not installed or\n",
       "  not enabled. See the <a href=\"https://ipywidgets.readthedocs.io/en/stable/user_install.html\">Jupyter\n",
       "  Widgets Documentation</a> for setup instructions.\n",
       "</p>\n",
       "<p>\n",
       "  If you're reading this message in another frontend (for example, a static\n",
       "  rendering on GitHub or <a href=\"https://nbviewer.jupyter.org/\">NBViewer</a>),\n",
       "  it may mean that your frontend doesn't currently support widgets.\n",
       "</p>\n"
      ],
      "text/plain": [
       "HBox(children=(IntProgress(value=0, description='Epoch', max=1), HTML(value='')))"
      ]
     },
     "metadata": {},
     "output_type": "display_data"
    },
    {
     "name": "stdout",
     "output_type": "stream",
     "text": [
      " 56%|█████▋    | 395/701 [00:31<00:24, 12.38it/s, loss=1.48] "
     ]
    },
    {
     "data": {
      "image/png": "[encoded data removed]",
      "text/plain": [
       "<matplotlib.figure.Figure at 0x7f31f4bae4e0>"
      ]
     },
     "metadata": {},
     "output_type": "display_data"
    }
   ],
   "source": [
    "m.lr_find()\n",
    "m.sched.plot(100)\n"
   ]
  },
  {
   "cell_type": "code",
   "execution_count": 16,
   "metadata": {},
   "outputs": [],
   "source": [
    "lr = 0.00005\n"
   ]
  },
  {
   "cell_type": "code",
   "execution_count": 17,
   "metadata": {},
   "outputs": [],
   "source": [
    "lrs = [lr/9, lr/6, lr/3]"
   ]
  },
  {
   "cell_type": "code",
   "execution_count": 18,
   "metadata": {},
   "outputs": [
    {
     "data": {
      "application/vnd.jupyter.widget-view+json": {
       "model_id": "156263f477784ece9ab391d5e81f7a5f",
       "version_major": 2,
       "version_minor": 0
      },
      "text/html": [
       "<p>Failed to display Jupyter Widget of type <code>HBox</code>.</p>\n",
       "<p>\n",
       "  If you're reading this message in the Jupyter Notebook or JupyterLab Notebook, it may mean\n",
       "  that the widgets JavaScript is still loading. If this message persists, it\n",
       "  likely means that the widgets JavaScript library is either not installed or\n",
       "  not enabled. See the <a href=\"https://ipywidgets.readthedocs.io/en/stable/user_install.html\">Jupyter\n",
       "  Widgets Documentation</a> for setup instructions.\n",
       "</p>\n",
       "<p>\n",
       "  If you're reading this message in another frontend (for example, a static\n",
       "  rendering on GitHub or <a href=\"https://nbviewer.jupyter.org/\">NBViewer</a>),\n",
       "  it may mean that your frontend doesn't currently support widgets.\n",
       "</p>\n"
      ],
      "text/plain": [
       "HBox(children=(IntProgress(value=0, description='Epoch', max=7), HTML(value='')))"
      ]
     },
     "metadata": {},
     "output_type": "display_data"
    },
    {
     "name": "stdout",
     "output_type": "stream",
     "text": [
      " 13%|█▎        | 90/701 [00:07<00:50, 12.12it/s, loss=0.674]\n",
      " 13%|█▎        | 94/701 [00:07<00:49, 12.25it/s, loss=0.662]"
     ]
    },
    {
     "name": "stderr",
     "output_type": "stream",
     "text": [
      "Exception in thread Thread-4:\n",
      "Traceback (most recent call last):\n",
      "  File \"/home/andreas/anaconda3/lib/python3.6/threading.py\", line 916, in _bootstrap_inner\n",
      "    self.run()\n",
      "  File \"/home/andreas/anaconda3/lib/python3.6/site-packages/tqdm/_monitor.py\", line 62, in run\n",
      "    for instance in self.tqdm_cls._instances:\n",
      "  File \"/home/andreas/anaconda3/lib/python3.6/_weakrefset.py\", line 60, in __iter__\n",
      "    for itemref in self.data:\n",
      "RuntimeError: Set changed size during iteration\n",
      "\n"
     ]
    },
    {
     "name": "stdout",
     "output_type": "stream",
     "text": [
      "epoch      trn_loss   val_loss                               \n",
      "    0      0.338206   0.32489   \n",
      "    1      0.312522   0.313109                               \n",
      "    2      0.306356   0.307808                               \n",
      "    3      0.292566   0.309692                               \n",
      "    4      0.286306   0.3042                                 \n",
      "    5      0.258048   0.30249                                \n",
      "    6      0.268903   0.302652                               \n",
      "\n"
     ]
    },
    {
     "data": {
      "text/plain": [
       "[array([0.30265])]"
      ]
     },
     "execution_count": 18,
     "metadata": {},
     "output_type": "execute_result"
    }
   ],
   "source": [
    "m.fit(lr, 3, cycle_len=1, cycle_mult=2)"
   ]
  },
  {
   "cell_type": "code",
   "execution_count": 19,
   "metadata": {},
   "outputs": [
    {
     "name": "stdout",
     "output_type": "stream",
     "text": [
      "confusion matrix:\n",
      "[[2748  114]\n",
      " [ 243  131]]\n",
      "accuracy = 0.8896786\n",
      "precision class 0 = 0.91875625\n",
      "precision class 1 = 0.5346939\n",
      "recall class 0 = 0.9601677\n",
      "recall calss 1 = 0.35026738\n",
      "AUC of ROC = 0.6552175472819203\n",
      "AUC of PRC = 0.48002698213795003\n",
      "min(+P, Se) = 0.3502673796791444\n"
     ]
    }
   ],
   "source": [
    "y_predicted = m.predict(is_test=True)\n",
    "preds = []\n",
    "for pred in y_predicted:\n",
    "    if pred > 0.5: \n",
    "        preds.append(1)\n",
    "    else: \n",
    "        preds.append(0)\n",
    "metrics = print_metrics_binary(y_test, preds)"
   ]
  },
  {
   "cell_type": "code",
   "execution_count": 20,
   "metadata": {},
   "outputs": [
    {
     "data": {
      "application/vnd.jupyter.widget-view+json": {
       "model_id": "c1782976036244f590b6ed95e720805f",
       "version_major": 2,
       "version_minor": 0
      },
      "text/html": [
       "<p>Failed to display Jupyter Widget of type <code>HBox</code>.</p>\n",
       "<p>\n",
       "  If you're reading this message in the Jupyter Notebook or JupyterLab Notebook, it may mean\n",
       "  that the widgets JavaScript is still loading. If this message persists, it\n",
       "  likely means that the widgets JavaScript library is either not installed or\n",
       "  not enabled. See the <a href=\"https://ipywidgets.readthedocs.io/en/stable/user_install.html\">Jupyter\n",
       "  Widgets Documentation</a> for setup instructions.\n",
       "</p>\n",
       "<p>\n",
       "  If you're reading this message in another frontend (for example, a static\n",
       "  rendering on GitHub or <a href=\"https://nbviewer.jupyter.org/\">NBViewer</a>),\n",
       "  it may mean that your frontend doesn't currently support widgets.\n",
       "</p>\n"
      ],
      "text/plain": [
       "HBox(children=(IntProgress(value=0, description='Epoch', max=1), HTML(value='')))"
      ]
     },
     "metadata": {},
     "output_type": "display_data"
    },
    {
     "name": "stdout",
     "output_type": "stream",
     "text": [
      "epoch      trn_loss   val_loss                               \n",
      "    0      0.272303   0.303354  \n",
      "\n"
     ]
    },
    {
     "data": {
      "text/plain": [
       "[array([0.30335])]"
      ]
     },
     "execution_count": 20,
     "metadata": {},
     "output_type": "execute_result"
    }
   ],
   "source": [
    "m.fit(lrs, 1, cycle_len=1, cycle_mult=2)"
   ]
  },
  {
   "cell_type": "code",
   "execution_count": 21,
   "metadata": {},
   "outputs": [
    {
     "name": "stdout",
     "output_type": "stream",
     "text": [
      "confusion matrix:\n",
      "[[2739  123]\n",
      " [ 239  135]]\n",
      "accuracy = 0.8881335\n",
      "precision class 0 = 0.9197448\n",
      "precision class 1 = 0.5232558\n",
      "recall class 0 = 0.9570231\n",
      "recall calss 1 = 0.36096257\n",
      "AUC of ROC = 0.6589928138207827\n",
      "AUC of PRC = 0.47903749695050196\n",
      "min(+P, Se) = 0.3609625668449198\n"
     ]
    }
   ],
   "source": [
    "y_predicted = m.predict(is_test=True)\n",
    "preds = []\n",
    "for pred in y_predicted:\n",
    "    if pred > 0.5: \n",
    "        preds.append(1)\n",
    "    else: \n",
    "        preds.append(0)\n",
    "metrics = print_metrics_binary(y_test, preds)"
   ]
  },
  {
   "cell_type": "code",
   "execution_count": 22,
   "metadata": {},
   "outputs": [
    {
     "data": {
      "application/vnd.jupyter.widget-view+json": {
       "model_id": "533b248ccb6241318620e6c91e92b51e",
       "version_major": 2,
       "version_minor": 0
      },
      "text/html": [
       "<p>Failed to display Jupyter Widget of type <code>HBox</code>.</p>\n",
       "<p>\n",
       "  If you're reading this message in the Jupyter Notebook or JupyterLab Notebook, it may mean\n",
       "  that the widgets JavaScript is still loading. If this message persists, it\n",
       "  likely means that the widgets JavaScript library is either not installed or\n",
       "  not enabled. See the <a href=\"https://ipywidgets.readthedocs.io/en/stable/user_install.html\">Jupyter\n",
       "  Widgets Documentation</a> for setup instructions.\n",
       "</p>\n",
       "<p>\n",
       "  If you're reading this message in another frontend (for example, a static\n",
       "  rendering on GitHub or <a href=\"https://nbviewer.jupyter.org/\">NBViewer</a>),\n",
       "  it may mean that your frontend doesn't currently support widgets.\n",
       "</p>\n"
      ],
      "text/plain": [
       "HBox(children=(IntProgress(value=0, description='Epoch', max=1), HTML(value='')))"
      ]
     },
     "metadata": {},
     "output_type": "display_data"
    },
    {
     "name": "stdout",
     "output_type": "stream",
     "text": [
      " 52%|█████▏    | 368/701 [00:28<00:25, 12.97it/s, loss=0.995]"
     ]
    },
    {
     "data": {
      "image/png": "[encoded data removed]",
      "text/plain": [
       "<matplotlib.figure.Figure at 0x7f31f3b860b8>"
      ]
     },
     "metadata": {},
     "output_type": "display_data"
    }
   ],
   "source": [
    "m.lr_find()\n",
    "m.sched.plot(100)"
   ]
  },
  {
   "cell_type": "code",
   "execution_count": 23,
   "metadata": {},
   "outputs": [
    {
     "data": {
      "application/vnd.jupyter.widget-view+json": {
       "model_id": "179a2ddcb669430193d95a5dd2f593c1",
       "version_major": 2,
       "version_minor": 0
      },
      "text/html": [
       "<p>Failed to display Jupyter Widget of type <code>HBox</code>.</p>\n",
       "<p>\n",
       "  If you're reading this message in the Jupyter Notebook or JupyterLab Notebook, it may mean\n",
       "  that the widgets JavaScript is still loading. If this message persists, it\n",
       "  likely means that the widgets JavaScript library is either not installed or\n",
       "  not enabled. See the <a href=\"https://ipywidgets.readthedocs.io/en/stable/user_install.html\">Jupyter\n",
       "  Widgets Documentation</a> for setup instructions.\n",
       "</p>\n",
       "<p>\n",
       "  If you're reading this message in another frontend (for example, a static\n",
       "  rendering on GitHub or <a href=\"https://nbviewer.jupyter.org/\">NBViewer</a>),\n",
       "  it may mean that your frontend doesn't currently support widgets.\n",
       "</p>\n"
      ],
      "text/plain": [
       "HBox(children=(IntProgress(value=0, description='Epoch', max=3), HTML(value='')))"
      ]
     },
     "metadata": {},
     "output_type": "display_data"
    },
    {
     "name": "stdout",
     "output_type": "stream",
     "text": [
      "  2%|▏         | 17/701 [00:01<00:53, 12.79it/s, loss=0.249] \n",
      "  3%|▎         | 19/701 [00:01<00:53, 12.77it/s, loss=0.256]"
     ]
    },
    {
     "name": "stderr",
     "output_type": "stream",
     "text": [
      "Exception in thread Thread-14:\n",
      "Traceback (most recent call last):\n",
      "  File \"/home/andreas/anaconda3/lib/python3.6/threading.py\", line 916, in _bootstrap_inner\n",
      "    self.run()\n",
      "  File \"/home/andreas/anaconda3/lib/python3.6/site-packages/tqdm/_monitor.py\", line 62, in run\n",
      "    for instance in self.tqdm_cls._instances:\n",
      "  File \"/home/andreas/anaconda3/lib/python3.6/_weakrefset.py\", line 60, in __iter__\n",
      "    for itemref in self.data:\n",
      "RuntimeError: Set changed size during iteration\n",
      "\n"
     ]
    },
    {
     "name": "stdout",
     "output_type": "stream",
     "text": [
      "epoch      trn_loss   val_loss                               \n",
      "    0      0.262324   0.302259  \n",
      "    1      0.255054   0.301699                               \n",
      "    2      0.247396   0.302341                               \n",
      "\n"
     ]
    },
    {
     "data": {
      "text/plain": [
       "[array([0.30234])]"
      ]
     },
     "execution_count": 23,
     "metadata": {},
     "output_type": "execute_result"
    }
   ],
   "source": [
    "m.fit(lrs, 2, cycle_len=1, cycle_mult=2)"
   ]
  },
  {
   "cell_type": "code",
   "execution_count": 24,
   "metadata": {},
   "outputs": [
    {
     "name": "stdout",
     "output_type": "stream",
     "text": [
      "confusion matrix:\n",
      "[[2744  118]\n",
      " [ 237  137]]\n",
      "accuracy = 0.89029664\n",
      "precision class 0 = 0.92049646\n",
      "precision class 1 = 0.5372549\n",
      "recall class 0 = 0.9587701\n",
      "recall calss 1 = 0.36631015\n",
      "AUC of ROC = 0.662540125636685\n",
      "AUC of PRC = 0.4884018142598089\n",
      "min(+P, Se) = 0.3663101604278075\n"
     ]
    }
   ],
   "source": [
    "y_predicted = m.predict(is_test=True)\n",
    "preds = []\n",
    "for pred in y_predicted:\n",
    "    if pred > 0.5: \n",
    "        preds.append(1)\n",
    "    else: \n",
    "        preds.append(0)\n",
    "metrics = print_metrics_binary(y_test, preds)"
   ]
  },
  {
   "cell_type": "code",
   "execution_count": 25,
   "metadata": {},
   "outputs": [
    {
     "data": {
      "application/vnd.jupyter.widget-view+json": {
       "model_id": "c1992e50d5db4b1c98cf1de6eab05aba",
       "version_major": 2,
       "version_minor": 0
      },
      "text/html": [
       "<p>Failed to display Jupyter Widget of type <code>HBox</code>.</p>\n",
       "<p>\n",
       "  If you're reading this message in the Jupyter Notebook or JupyterLab Notebook, it may mean\n",
       "  that the widgets JavaScript is still loading. If this message persists, it\n",
       "  likely means that the widgets JavaScript library is either not installed or\n",
       "  not enabled. See the <a href=\"https://ipywidgets.readthedocs.io/en/stable/user_install.html\">Jupyter\n",
       "  Widgets Documentation</a> for setup instructions.\n",
       "</p>\n",
       "<p>\n",
       "  If you're reading this message in another frontend (for example, a static\n",
       "  rendering on GitHub or <a href=\"https://nbviewer.jupyter.org/\">NBViewer</a>),\n",
       "  it may mean that your frontend doesn't currently support widgets.\n",
       "</p>\n"
      ],
      "text/plain": [
       "HBox(children=(IntProgress(value=0, description='Epoch', max=4), HTML(value='')))"
      ]
     },
     "metadata": {},
     "output_type": "display_data"
    },
    {
     "name": "stdout",
     "output_type": "stream",
     "text": [
      "epoch      trn_loss   val_loss                               \n",
      "    0      0.277581   0.312411  \n",
      "    1      0.240072   0.305793                               \n",
      "    2      0.279055   0.315861                               \n",
      "    3      0.242465   0.306153                               \n",
      "\n"
     ]
    },
    {
     "data": {
      "text/plain": [
       "[array([0.30615])]"
      ]
     },
     "execution_count": 25,
     "metadata": {},
     "output_type": "execute_result"
    }
   ],
   "source": [
    "m.fit(0.0001, 2, cycle_len=2)"
   ]
  },
  {
   "cell_type": "code",
   "execution_count": 26,
   "metadata": {},
   "outputs": [
    {
     "name": "stdout",
     "output_type": "stream",
     "text": [
      "confusion matrix:\n",
      "[[2765   97]\n",
      " [ 249  125]]\n",
      "accuracy = 0.89307785\n",
      "precision class 0 = 0.9173855\n",
      "precision class 1 = 0.5630631\n",
      "recall class 0 = 0.9661076\n",
      "recall calss 1 = 0.3342246\n",
      "AUC of ROC = 0.6501661079907473\n",
      "AUC of PRC = 0.48711725497699465\n",
      "min(+P, Se) = 0.3342245989304813\n"
     ]
    }
   ],
   "source": [
    "y_predicted = m.predict(is_test=True)\n",
    "preds = []\n",
    "for pred in y_predicted:\n",
    "    if pred > 0.5: \n",
    "        preds.append(1)\n",
    "    else: \n",
    "        preds.append(0)\n",
    "metrics = print_metrics_binary(y_test, preds)"
   ]
  },
  {
   "cell_type": "code",
   "execution_count": null,
   "metadata": {},
   "outputs": [],
   "source": []
  },
  {
   "cell_type": "code",
   "execution_count": null,
   "metadata": {},
   "outputs": [],
   "source": []
  },
  {
   "cell_type": "code",
   "execution_count": null,
   "metadata": {},
   "outputs": [],
   "source": []
  },
  {
   "cell_type": "code",
   "execution_count": null,
   "metadata": {},
   "outputs": [],
   "source": []
  },
  {
   "cell_type": "code",
   "execution_count": null,
   "metadata": {},
   "outputs": [],
   "source": []
  }
 ],
 "metadata": {
  "kernelspec": {
   "display_name": "Python 3",
   "language": "python",
   "name": "python3"
  },
  "language_info": {
   "codemirror_mode": {
    "name": "ipython",
    "version": 3
   },
   "file_extension": ".py",
   "mimetype": "text/x-python",
   "name": "python",
   "nbconvert_exporter": "python",
   "pygments_lexer": "ipython3",
   "version": "3.6.4"
  }
 },
 "nbformat": 4,
 "nbformat_minor": 2
}
