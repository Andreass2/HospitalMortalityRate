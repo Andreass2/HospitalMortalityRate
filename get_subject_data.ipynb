{
 "cells": [
  {
   "cell_type": "code",
   "execution_count": 1,
   "metadata": {},
   "outputs": [],
   "source": [
    "import numpy as np\n",
    "import os\n",
    "import pandas as pd\n",
    "\n",
    "def read_stays(subject_path):\n",
    "    stays = pd.read_csv(os.path.join(subject_path, 'stays.csv'), index_col=None)\n",
    "    stays.INTIME = pd.to_datetime(stays.INTIME)\n",
    "    stays.OUTTIME = pd.to_datetime(stays.OUTTIME)\n",
    "    stays.DOB = pd.to_datetime(stays.DOB)\n",
    "    stays.DOD = pd.to_datetime(stays.DOD)\n",
    "    stays.DEATHTIME = pd.to_datetime(stays.DEATHTIME)\n",
    "    stays.sort_values(by=['INTIME', 'OUTTIME'], inplace=True)\n",
    "    return stays\n",
    "\n",
    "def read_diagnoses(subject_path):\n",
    "    return pd.read_csv(os.path.join(subject_path, 'diagnoses.csv'), index_col=None)\n",
    "\n",
    "def read_events(subject_path, remove_null=True):\n",
    "    events = pd.read_csv(os.path.join(subject_path, 'events.csv'), index_col=None)\n",
    "    if remove_null:\n",
    "        events = events.loc[events.VALUE.notnull()]\n",
    "    events.CHARTTIME = pd.to_datetime(events.CHARTTIME)\n",
    "    events.HADM_ID = events.HADM_ID.fillna(value=-1).astype(int)\n",
    "    events.ICUSTAY_ID = events.ICUSTAY_ID.fillna(value=-1).astype(int)\n",
    "    events.VALUEUOM = events.VALUEUOM.fillna('').astype(str)\n",
    "#    events.sort_values(by=['CHARTTIME', 'ITEMID', 'ICUSTAY_ID'], inplace=True)\n",
    "    return events\n",
    "\n",
    "def get_events_for_stay(events, icustayid, intime=None, outtime=None):\n",
    "    idx = (events.ICUSTAY_ID == icustayid)\n",
    "    if intime is not None and outtime is not None:\n",
    "        idx = idx | ((events.CHARTTIME >= intime) & (events.CHARTTIME <= outtime))\n",
    "    events = events.loc[idx]\n",
    "    del events['ICUSTAY_ID']\n",
    "    return events\n",
    "\n",
    "def add_hours_elpased_to_events(events, dt, remove_charttime=True):\n",
    "    events['HOURS'] = (events.CHARTTIME - dt).apply(lambda s: s / np.timedelta64(1, 's')) / 60./60\n",
    "    if remove_charttime:\n",
    "        del events['CHARTTIME']\n",
    "    return events\n",
    "\n",
    "def convert_events_to_timeseries(events, variable_column='VARIABLE', variables=[]):\n",
    "    metadata = events[['CHARTTIME', 'ICUSTAY_ID']].sort_values(by=['CHARTTIME', 'ICUSTAY_ID'])\\\n",
    "                    .drop_duplicates(keep='first').set_index('CHARTTIME')\n",
    "    timeseries = events[['CHARTTIME', variable_column, 'VALUE']]\\\n",
    "                    .sort_values(by=['CHARTTIME', variable_column, 'VALUE'], axis=0)\\\n",
    "                    .drop_duplicates(subset=['CHARTTIME', variable_column], keep='last')\n",
    "    timeseries = timeseries.pivot(index='CHARTTIME', columns=variable_column, values='VALUE').merge(metadata, left_index=True, right_index=True)\\\n",
    "                    .sort_index(axis=0).reset_index()\n",
    "    for v in variables:\n",
    "        if v not in timeseries:\n",
    "            timeseries[v] = np.nan\n",
    "    return timeseries\n",
    "\n",
    "def get_first_valid_from_timeseries(timeseries, variable):\n",
    "    if variable in timeseries:\n",
    "        idx = timeseries[variable].notnull()\n",
    "        if idx.any():\n",
    "            loc = np.where(idx)[0][0]\n",
    "            return timeseries[variable].iloc[loc]\n",
    "    return np.nan\n"
   ]
  },
  {
   "cell_type": "code",
   "execution_count": null,
   "metadata": {
    "collapsed": true
   },
   "outputs": [],
   "source": []
  }
 ],
 "metadata": {
  "kernelspec": {
   "display_name": "Python 3",
   "language": "python",
   "name": "python3"
  },
  "language_info": {
   "codemirror_mode": {
    "name": "ipython",
    "version": 3
   },
   "file_extension": ".py",
   "mimetype": "text/x-python",
   "name": "python",
   "nbconvert_exporter": "python",
   "pygments_lexer": "ipython3",
   "version": "3.6.3"
  }
 },
 "nbformat": 4,
 "nbformat_minor": 2
}
